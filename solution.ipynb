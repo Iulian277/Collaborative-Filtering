{
 "cells": [
  {
   "cell_type": "markdown",
   "id": "c293a91d",
   "metadata": {
    "papermill": {
     "duration": 0.077851,
     "end_time": "2022-03-29T07:47:46.119952",
     "exception": false,
     "start_time": "2022-03-29T07:47:46.042101",
     "status": "completed"
    },
    "tags": []
   },
   "source": [
    "# Commons"
   ]
  },
  {
   "cell_type": "code",
   "execution_count": 1,
   "id": "b70b8fd6",
   "metadata": {
    "_cell_guid": "b1076dfc-b9ad-4769-8c92-a6c4dae69d19",
    "_uuid": "8f2839f25d086af736a60e9eeb907d3b93b6e0e5",
    "execution": {
     "iopub.execute_input": "2022-03-29T07:47:46.285313Z",
     "iopub.status.busy": "2022-03-29T07:47:46.284180Z",
     "iopub.status.idle": "2022-03-29T07:47:47.117608Z",
     "shell.execute_reply": "2022-03-29T07:47:47.116622Z",
     "shell.execute_reply.started": "2022-03-29T07:42:16.970626Z"
    },
    "papermill": {
     "duration": 0.920725,
     "end_time": "2022-03-29T07:47:47.117771",
     "exception": false,
     "start_time": "2022-03-29T07:47:46.197046",
     "status": "completed"
    },
    "tags": []
   },
   "outputs": [],
   "source": [
    "# Data processing \n",
    "import numpy as np\n",
    "import pandas as pd\n",
    "\n",
    "# Data visualisation\n",
    "import seaborn as sns\n",
    "\n",
    "%matplotlib inline\n",
    "import matplotlib as mpl\n",
    "import matplotlib.pyplot as plt\n",
    "\n",
    "mpl.rc('axes',  labelsize=14)\n",
    "mpl.rc('xtick', labelsize=12)\n",
    "mpl.rc('ytick', labelsize=12)\n",
    "\n",
    "# Commons\n",
    "import gc\n",
    "import os\n",
    "import math\n",
    "import random\n",
    "RANDOM_STATE = 42\n",
    "np.random.seed(RANDOM_STATE)\n",
    "\n",
    "import warnings\n",
    "warnings.filterwarnings('ignore')"
   ]
  },
  {
   "cell_type": "code",
   "execution_count": 2,
   "id": "ba48f833",
   "metadata": {
    "execution": {
     "iopub.execute_input": "2022-03-29T07:47:47.309981Z",
     "iopub.status.busy": "2022-03-29T07:47:47.309136Z",
     "iopub.status.idle": "2022-03-29T07:47:47.310962Z",
     "shell.execute_reply": "2022-03-29T07:47:47.311388Z",
     "shell.execute_reply.started": "2022-03-29T07:42:17.755532Z"
    },
    "papermill": {
     "duration": 0.080887,
     "end_time": "2022-03-29T07:47:47.311519",
     "exception": false,
     "start_time": "2022-03-29T07:47:47.230632",
     "status": "completed"
    },
    "tags": []
   },
   "outputs": [],
   "source": [
    "ARTICLES_CSV_PATH      = '../input/h-and-m-personalized-fashion-recommendations/articles.csv'\n",
    "CUSTOMERS_CSV_PATH     = '../input/h-and-m-personalized-fashion-recommendations/customers.csv'\n",
    "TRANSACTIONS_CSV_PATH  = '../input/h-and-m-personalized-fashion-recommendations/transactions_train.csv'\n",
    "SAMPLE_SUBMISSION_PATH = '../input/h-and-m-personalized-fashion-recommendations/sample_submission.csv'\n",
    "ARTICLES_IMAGES_PATH   = '../input/h-and-m-personalized-fashion-recommendations/images/'"
   ]
  },
  {
   "cell_type": "code",
   "execution_count": 3,
   "id": "7ccd535d",
   "metadata": {
    "execution": {
     "iopub.execute_input": "2022-03-29T07:47:47.464823Z",
     "iopub.status.busy": "2022-03-29T07:47:47.464031Z",
     "iopub.status.idle": "2022-03-29T07:47:47.472981Z",
     "shell.execute_reply": "2022-03-29T07:47:47.472558Z",
     "shell.execute_reply.started": "2022-03-29T07:42:17.761298Z"
    },
    "papermill": {
     "duration": 0.087073,
     "end_time": "2022-03-29T07:47:47.473085",
     "exception": false,
     "start_time": "2022-03-29T07:47:47.386012",
     "status": "completed"
    },
    "tags": []
   },
   "outputs": [],
   "source": [
    "def stop_execution():\n",
    "    \"\"\" \n",
    "    Stop the execution of the program\n",
    "    \"\"\"\n",
    "    raise SystemExit()\n",
    "\n",
    "    \n",
    "def is_kaggle_gpu_enabled():\n",
    "    \"\"\"\n",
    "    Return whether GPU is enabled in the running Kaggle kernel\n",
    "    \"\"\"\n",
    "    \n",
    "    import tensorflow as tf\n",
    "    return len(tf.config.list_physical_devices('GPU')) > 0\n",
    "\n",
    "\n",
    "def csv_to_df(csv_path, cudf=False):\n",
    "    \"\"\" \n",
    "    Convert a `csv` file to `pd/cudf Dataframe`\n",
    "    If the given file path is not correct, then `None` is returned\n",
    "    \n",
    "    @param csv_path: Path to the csv file\n",
    "    @return: Parsed csv file or `None`\n",
    "    @rtype: pd/cudf.Dataframe    \n",
    "    \"\"\"\n",
    "    \n",
    "    if not os.path.isfile(csv_path):\n",
    "        print(f\"The file '{csv_path}' doesn't exist!\")\n",
    "        return None\n",
    "    \n",
    "    if cudf == True:\n",
    "        return cudf.read_csv(csv_path)\n",
    "    return pd.read_csv(csv_path)\n",
    "\n",
    "\n",
    "def group_data_by(data, groupby, countby):\n",
    "    \"\"\"\n",
    "    Group data based on the column `groupby`\n",
    "    and count values by after the `countby` param\n",
    "    \n",
    "    @param data: Dataframe to be grouped\n",
    "    @param groupby: Key used to group the data\n",
    "    @param countby: Count the instances based on this key\n",
    "    @return: df with 2 columns: `groupby` and `count`\n",
    "    @rtype: Dataframe\n",
    "    \"\"\"\n",
    "    \n",
    "    # Check if the param `groupby` is a nested list \n",
    "    if not any(isinstance(x, list) for x in groupby):\n",
    "        group_by = groupby\n",
    "    else:\n",
    "        group_by = [groupby]\n",
    "    \n",
    "    grouped_data = data                  \\\n",
    "        .groupby(group_by)               \\\n",
    "        .count()[countby]                \\\n",
    "        .sort_values(ascending=False)    \\\n",
    "        .reset_index()\n",
    "    return grouped_data.rename(columns={countby: 'count'})"
   ]
  },
  {
   "cell_type": "code",
   "execution_count": 4,
   "id": "d0c3aa18",
   "metadata": {
    "execution": {
     "iopub.execute_input": "2022-03-29T07:47:47.666732Z",
     "iopub.status.busy": "2022-03-29T07:47:47.664382Z",
     "iopub.status.idle": "2022-03-29T07:47:51.756031Z",
     "shell.execute_reply": "2022-03-29T07:47:51.756634Z",
     "shell.execute_reply.started": "2022-03-29T07:42:17.779021Z"
    },
    "papermill": {
     "duration": 4.208939,
     "end_time": "2022-03-29T07:47:51.756803",
     "exception": false,
     "start_time": "2022-03-29T07:47:47.547864",
     "status": "completed"
    },
    "tags": []
   },
   "outputs": [
    {
     "name": "stderr",
     "output_type": "stream",
     "text": [
      "2022-03-29 07:47:51.669390: I tensorflow/stream_executor/cuda/cuda_gpu_executor.cc:937] successful NUMA node read from SysFS had negative value (-1), but there must be at least one NUMA node, so returning NUMA node zero\n",
      "2022-03-29 07:47:51.749440: I tensorflow/stream_executor/cuda/cuda_gpu_executor.cc:937] successful NUMA node read from SysFS had negative value (-1), but there must be at least one NUMA node, so returning NUMA node zero\n",
      "2022-03-29 07:47:51.750124: I tensorflow/stream_executor/cuda/cuda_gpu_executor.cc:937] successful NUMA node read from SysFS had negative value (-1), but there must be at least one NUMA node, so returning NUMA node zero\n"
     ]
    }
   ],
   "source": [
    "# Check if Kaggle GPU's kernel is enabled\n",
    "if not is_kaggle_gpu_enabled():\n",
    "    print('Enable Kaggle GPU before running this notebook!')\n",
    "    stop_execution()"
   ]
  },
  {
   "cell_type": "code",
   "execution_count": 5,
   "id": "fe297556",
   "metadata": {
    "execution": {
     "iopub.execute_input": "2022-03-29T07:47:51.915061Z",
     "iopub.status.busy": "2022-03-29T07:47:51.914450Z",
     "iopub.status.idle": "2022-03-29T07:47:54.400297Z",
     "shell.execute_reply": "2022-03-29T07:47:54.399661Z",
     "shell.execute_reply.started": "2022-03-29T07:42:20.622994Z"
    },
    "papermill": {
     "duration": 2.564938,
     "end_time": "2022-03-29T07:47:54.400490",
     "exception": false,
     "start_time": "2022-03-29T07:47:51.835552",
     "status": "completed"
    },
    "tags": []
   },
   "outputs": [],
   "source": [
    "# In will use `RAPIDS cuDF` instead of `pd df`\n",
    "# for faster dataframe manipulations (requires GPU)\n",
    "import cudf"
   ]
  },
  {
   "cell_type": "markdown",
   "id": "5153c4ea",
   "metadata": {
    "papermill": {
     "duration": 0.074334,
     "end_time": "2022-03-29T07:47:54.551853",
     "exception": false,
     "start_time": "2022-03-29T07:47:54.477519",
     "status": "completed"
    },
    "tags": []
   },
   "source": [
    "# 1. Recommend using only dataframe manipulations"
   ]
  },
  {
   "cell_type": "code",
   "execution_count": 6,
   "id": "eaf6edbd",
   "metadata": {
    "execution": {
     "iopub.execute_input": "2022-03-29T07:47:54.706141Z",
     "iopub.status.busy": "2022-03-29T07:47:54.705367Z",
     "iopub.status.idle": "2022-03-29T07:47:54.709194Z",
     "shell.execute_reply": "2022-03-29T07:47:54.708791Z",
     "shell.execute_reply.started": "2022-03-29T07:42:22.939702Z"
    },
    "papermill": {
     "duration": 0.082083,
     "end_time": "2022-03-29T07:47:54.709304",
     "exception": false,
     "start_time": "2022-03-29T07:47:54.627221",
     "status": "completed"
    },
    "tags": []
   },
   "outputs": [],
   "source": [
    "# For this approach, I will try to implement a recommendation system\n",
    "# using only the existing dataframes, without involving a ML algorithm\n",
    "\n",
    "# 1. I will recommend items previously purchased by the current `customer_id`\n",
    "# 2. Then, items that are bought together with previous purchases\n",
    "# 3. At the end, we can also recommend popular items"
   ]
  },
  {
   "cell_type": "markdown",
   "id": "0c12b40e",
   "metadata": {
    "papermill": {
     "duration": 0.074951,
     "end_time": "2022-03-29T07:47:54.858932",
     "exception": false,
     "start_time": "2022-03-29T07:47:54.783981",
     "status": "completed"
    },
    "tags": []
   },
   "source": [
    "## Load the data"
   ]
  },
  {
   "cell_type": "code",
   "execution_count": 7,
   "id": "340d948e",
   "metadata": {
    "execution": {
     "iopub.execute_input": "2022-03-29T07:47:55.014514Z",
     "iopub.status.busy": "2022-03-29T07:47:55.013766Z",
     "iopub.status.idle": "2022-03-29T07:49:11.211244Z",
     "shell.execute_reply": "2022-03-29T07:49:11.210691Z",
     "shell.execute_reply.started": "2022-03-29T07:42:22.949749Z"
    },
    "papermill": {
     "duration": 76.276974,
     "end_time": "2022-03-29T07:49:11.211464",
     "exception": false,
     "start_time": "2022-03-29T07:47:54.934490",
     "status": "completed"
    },
    "tags": []
   },
   "outputs": [],
   "source": [
    "articles     = cudf.DataFrame.from_pandas(csv_to_df(ARTICLES_CSV_PATH))\n",
    "customers    = cudf.DataFrame.from_pandas(csv_to_df(CUSTOMERS_CSV_PATH))\n",
    "transactions = cudf.DataFrame.from_pandas(csv_to_df(TRANSACTIONS_CSV_PATH))\n",
    "\n",
    "# Sanity check\n",
    "if any(df is None for df in [articles,\n",
    "                             customers,\n",
    "                             transactions]):\n",
    "    stop_execution()"
   ]
  },
  {
   "cell_type": "markdown",
   "id": "b726f9fe",
   "metadata": {
    "papermill": {
     "duration": 0.080334,
     "end_time": "2022-03-29T07:49:11.374816",
     "exception": false,
     "start_time": "2022-03-29T07:49:11.294482",
     "status": "completed"
    },
    "tags": []
   },
   "source": [
    "## Reduce some memory"
   ]
  },
  {
   "cell_type": "code",
   "execution_count": 8,
   "id": "3a4169c9",
   "metadata": {
    "execution": {
     "iopub.execute_input": "2022-03-29T07:49:11.539106Z",
     "iopub.status.busy": "2022-03-29T07:49:11.538295Z",
     "iopub.status.idle": "2022-03-29T07:49:11.565915Z",
     "shell.execute_reply": "2022-03-29T07:49:11.566303Z",
     "shell.execute_reply.started": "2022-03-29T07:43:08.822429Z"
    },
    "papermill": {
     "duration": 0.117534,
     "end_time": "2022-03-29T07:49:11.566462",
     "exception": false,
     "start_time": "2022-03-29T07:49:11.448928",
     "status": "completed"
    },
    "tags": []
   },
   "outputs": [
    {
     "data": {
      "text/html": [
       "<div>\n",
       "<style scoped>\n",
       "    .dataframe tbody tr th:only-of-type {\n",
       "        vertical-align: middle;\n",
       "    }\n",
       "\n",
       "    .dataframe tbody tr th {\n",
       "        vertical-align: top;\n",
       "    }\n",
       "\n",
       "    .dataframe thead th {\n",
       "        text-align: right;\n",
       "    }\n",
       "</style>\n",
       "<table border=\"1\" class=\"dataframe\">\n",
       "  <thead>\n",
       "    <tr style=\"text-align: right;\">\n",
       "      <th></th>\n",
       "      <th>t_dat</th>\n",
       "      <th>customer_id</th>\n",
       "      <th>article_id</th>\n",
       "      <th>price</th>\n",
       "      <th>sales_channel_id</th>\n",
       "    </tr>\n",
       "  </thead>\n",
       "  <tbody>\n",
       "    <tr>\n",
       "      <th>0</th>\n",
       "      <td>2018-09-20</td>\n",
       "      <td>000058a12d5b43e67d225668fa1f8d618c13dc232df0ca...</td>\n",
       "      <td>663713001</td>\n",
       "      <td>0.050831</td>\n",
       "      <td>2</td>\n",
       "    </tr>\n",
       "    <tr>\n",
       "      <th>1</th>\n",
       "      <td>2018-09-20</td>\n",
       "      <td>000058a12d5b43e67d225668fa1f8d618c13dc232df0ca...</td>\n",
       "      <td>541518023</td>\n",
       "      <td>0.030492</td>\n",
       "      <td>2</td>\n",
       "    </tr>\n",
       "    <tr>\n",
       "      <th>2</th>\n",
       "      <td>2018-09-20</td>\n",
       "      <td>00007d2de826758b65a93dd24ce629ed66842531df6699...</td>\n",
       "      <td>505221004</td>\n",
       "      <td>0.015237</td>\n",
       "      <td>2</td>\n",
       "    </tr>\n",
       "    <tr>\n",
       "      <th>3</th>\n",
       "      <td>2018-09-20</td>\n",
       "      <td>00007d2de826758b65a93dd24ce629ed66842531df6699...</td>\n",
       "      <td>685687003</td>\n",
       "      <td>0.016932</td>\n",
       "      <td>2</td>\n",
       "    </tr>\n",
       "    <tr>\n",
       "      <th>4</th>\n",
       "      <td>2018-09-20</td>\n",
       "      <td>00007d2de826758b65a93dd24ce629ed66842531df6699...</td>\n",
       "      <td>685687004</td>\n",
       "      <td>0.016932</td>\n",
       "      <td>2</td>\n",
       "    </tr>\n",
       "  </tbody>\n",
       "</table>\n",
       "</div>"
      ],
      "text/plain": [
       "        t_dat                                        customer_id  article_id  \\\n",
       "0  2018-09-20  000058a12d5b43e67d225668fa1f8d618c13dc232df0ca...   663713001   \n",
       "1  2018-09-20  000058a12d5b43e67d225668fa1f8d618c13dc232df0ca...   541518023   \n",
       "2  2018-09-20  00007d2de826758b65a93dd24ce629ed66842531df6699...   505221004   \n",
       "3  2018-09-20  00007d2de826758b65a93dd24ce629ed66842531df6699...   685687003   \n",
       "4  2018-09-20  00007d2de826758b65a93dd24ce629ed66842531df6699...   685687004   \n",
       "\n",
       "      price  sales_channel_id  \n",
       "0  0.050831                 2  \n",
       "1  0.030492                 2  \n",
       "2  0.015237                 2  \n",
       "3  0.016932                 2  \n",
       "4  0.016932                 2  "
      ]
     },
     "execution_count": 8,
     "metadata": {},
     "output_type": "execute_result"
    }
   ],
   "source": [
    "# Make a deep copy of the `transactions` df\n",
    "train = cudf.DataFrame(transactions)\n",
    "train.head()"
   ]
  },
  {
   "cell_type": "code",
   "execution_count": 9,
   "id": "8a272091",
   "metadata": {
    "execution": {
     "iopub.execute_input": "2022-03-29T07:49:11.722167Z",
     "iopub.status.busy": "2022-03-29T07:49:11.721531Z",
     "iopub.status.idle": "2022-03-29T07:49:11.724053Z",
     "shell.execute_reply": "2022-03-29T07:49:11.724460Z",
     "shell.execute_reply.started": "2022-03-29T07:43:08.859958Z"
    },
    "papermill": {
     "duration": 0.083307,
     "end_time": "2022-03-29T07:49:11.724582",
     "exception": false,
     "start_time": "2022-03-29T07:49:11.641275",
     "status": "completed"
    },
    "tags": []
   },
   "outputs": [
    {
     "data": {
      "text/plain": [
       "(31788324, 5)"
      ]
     },
     "execution_count": 9,
     "metadata": {},
     "output_type": "execute_result"
    }
   ],
   "source": [
    "train.shape"
   ]
  },
  {
   "cell_type": "code",
   "execution_count": 10,
   "id": "bc4f3bf8",
   "metadata": {
    "execution": {
     "iopub.execute_input": "2022-03-29T07:49:11.881459Z",
     "iopub.status.busy": "2022-03-29T07:49:11.880577Z",
     "iopub.status.idle": "2022-03-29T07:49:12.290985Z",
     "shell.execute_reply": "2022-03-29T07:49:12.290434Z",
     "shell.execute_reply.started": "2022-03-29T07:43:08.867876Z"
    },
    "papermill": {
     "duration": 0.490873,
     "end_time": "2022-03-29T07:49:12.291120",
     "exception": false,
     "start_time": "2022-03-29T07:49:11.800247",
     "status": "completed"
    },
    "tags": []
   },
   "outputs": [],
   "source": [
    "# I will use this 'trick' to reduce the memory\n",
    "# Here are all the explanations why I've used that's kind of mapping\n",
    "# https://www.kaggle.com/c/h-and-m-personalized-fashion-recommendations/discussion/308635\n",
    "\n",
    "# Reduce `customer_id` size (64bytes -> 8bytes)\n",
    "train['customer_id'] = train['customer_id'] \\\n",
    "    .str[-16:]                              \\\n",
    "    .str.hex_to_int()                       \\\n",
    "    .astype('int64')                        \\\n",
    "\n",
    "# Reduce `article_id` size (10bytes -> 4bytes)\n",
    "train['article_id'] = train['article_id'].astype('int32')\n",
    "\n",
    "# Convert `t_dat` to `cudf datetime`\n",
    "train['t_dat'] = cudf.to_datetime(train['t_dat'])"
   ]
  },
  {
   "cell_type": "code",
   "execution_count": 11,
   "id": "684a62a8",
   "metadata": {
    "execution": {
     "iopub.execute_input": "2022-03-29T07:49:12.449293Z",
     "iopub.status.busy": "2022-03-29T07:49:12.448792Z",
     "iopub.status.idle": "2022-03-29T07:49:12.469370Z",
     "shell.execute_reply": "2022-03-29T07:49:12.469784Z",
     "shell.execute_reply.started": "2022-03-29T07:43:09.277714Z"
    },
    "papermill": {
     "duration": 0.103368,
     "end_time": "2022-03-29T07:49:12.469909",
     "exception": false,
     "start_time": "2022-03-29T07:49:12.366541",
     "status": "completed"
    },
    "tags": []
   },
   "outputs": [
    {
     "data": {
      "text/html": [
       "<div>\n",
       "<style scoped>\n",
       "    .dataframe tbody tr th:only-of-type {\n",
       "        vertical-align: middle;\n",
       "    }\n",
       "\n",
       "    .dataframe tbody tr th {\n",
       "        vertical-align: top;\n",
       "    }\n",
       "\n",
       "    .dataframe thead th {\n",
       "        text-align: right;\n",
       "    }\n",
       "</style>\n",
       "<table border=\"1\" class=\"dataframe\">\n",
       "  <thead>\n",
       "    <tr style=\"text-align: right;\">\n",
       "      <th></th>\n",
       "      <th>t_dat</th>\n",
       "      <th>customer_id</th>\n",
       "      <th>article_id</th>\n",
       "      <th>price</th>\n",
       "      <th>sales_channel_id</th>\n",
       "    </tr>\n",
       "  </thead>\n",
       "  <tbody>\n",
       "    <tr>\n",
       "      <th>0</th>\n",
       "      <td>2018-09-20</td>\n",
       "      <td>-6846340800584936</td>\n",
       "      <td>663713001</td>\n",
       "      <td>0.050831</td>\n",
       "      <td>2</td>\n",
       "    </tr>\n",
       "    <tr>\n",
       "      <th>1</th>\n",
       "      <td>2018-09-20</td>\n",
       "      <td>-6846340800584936</td>\n",
       "      <td>541518023</td>\n",
       "      <td>0.030492</td>\n",
       "      <td>2</td>\n",
       "    </tr>\n",
       "    <tr>\n",
       "      <th>2</th>\n",
       "      <td>2018-09-20</td>\n",
       "      <td>-8334631767138808638</td>\n",
       "      <td>505221004</td>\n",
       "      <td>0.015237</td>\n",
       "      <td>2</td>\n",
       "    </tr>\n",
       "    <tr>\n",
       "      <th>3</th>\n",
       "      <td>2018-09-20</td>\n",
       "      <td>-8334631767138808638</td>\n",
       "      <td>685687003</td>\n",
       "      <td>0.016932</td>\n",
       "      <td>2</td>\n",
       "    </tr>\n",
       "    <tr>\n",
       "      <th>4</th>\n",
       "      <td>2018-09-20</td>\n",
       "      <td>-8334631767138808638</td>\n",
       "      <td>685687004</td>\n",
       "      <td>0.016932</td>\n",
       "      <td>2</td>\n",
       "    </tr>\n",
       "  </tbody>\n",
       "</table>\n",
       "</div>"
      ],
      "text/plain": [
       "       t_dat          customer_id  article_id     price  sales_channel_id\n",
       "0 2018-09-20    -6846340800584936   663713001  0.050831                 2\n",
       "1 2018-09-20    -6846340800584936   541518023  0.030492                 2\n",
       "2 2018-09-20 -8334631767138808638   505221004  0.015237                 2\n",
       "3 2018-09-20 -8334631767138808638   685687003  0.016932                 2\n",
       "4 2018-09-20 -8334631767138808638   685687004  0.016932                 2"
      ]
     },
     "execution_count": 11,
     "metadata": {},
     "output_type": "execute_result"
    }
   ],
   "source": [
    "train.head()"
   ]
  },
  {
   "cell_type": "code",
   "execution_count": 12,
   "id": "3b4c76ed",
   "metadata": {
    "execution": {
     "iopub.execute_input": "2022-03-29T07:49:12.635257Z",
     "iopub.status.busy": "2022-03-29T07:49:12.634611Z",
     "iopub.status.idle": "2022-03-29T07:49:13.255256Z",
     "shell.execute_reply": "2022-03-29T07:49:13.254624Z",
     "shell.execute_reply.started": "2022-03-29T07:43:09.304515Z"
    },
    "papermill": {
     "duration": 0.704095,
     "end_time": "2022-03-29T07:49:13.255408",
     "exception": false,
     "start_time": "2022-03-29T07:49:12.551313",
     "status": "completed"
    },
    "tags": []
   },
   "outputs": [],
   "source": [
    "# Save this version of `train reduced memory`\n",
    "# V1) Make a deep copy of the current df and store it in the RAM memory,\n",
    "# which is not a good idea: train_mem_red = cudf.DataFrame(train)\n",
    "# V2) Save it to a file and load when needed (lazy initialization)\n",
    "train.to_parquet('train.pqt')"
   ]
  },
  {
   "cell_type": "markdown",
   "id": "41bd6018",
   "metadata": {
    "papermill": {
     "duration": 0.075857,
     "end_time": "2022-03-29T07:49:13.407761",
     "exception": false,
     "start_time": "2022-03-29T07:49:13.331904",
     "status": "completed"
    },
    "tags": []
   },
   "source": [
    "## (i) Recommend previously purchased items"
   ]
  },
  {
   "cell_type": "code",
   "execution_count": 13,
   "id": "148793cd",
   "metadata": {
    "execution": {
     "iopub.execute_input": "2022-03-29T07:49:13.573496Z",
     "iopub.status.busy": "2022-03-29T07:49:13.572497Z",
     "iopub.status.idle": "2022-03-29T07:49:13.586791Z",
     "shell.execute_reply": "2022-03-29T07:49:13.587197Z",
     "shell.execute_reply.started": "2022-03-29T07:43:10.13234Z"
    },
    "papermill": {
     "duration": 0.10268,
     "end_time": "2022-03-29T07:49:13.587347",
     "exception": false,
     "start_time": "2022-03-29T07:49:13.484667",
     "status": "completed"
    },
    "tags": []
   },
   "outputs": [
    {
     "data": {
      "text/html": [
       "<div>\n",
       "<style scoped>\n",
       "    .dataframe tbody tr th:only-of-type {\n",
       "        vertical-align: middle;\n",
       "    }\n",
       "\n",
       "    .dataframe tbody tr th {\n",
       "        vertical-align: top;\n",
       "    }\n",
       "\n",
       "    .dataframe thead th {\n",
       "        text-align: right;\n",
       "    }\n",
       "</style>\n",
       "<table border=\"1\" class=\"dataframe\">\n",
       "  <thead>\n",
       "    <tr style=\"text-align: right;\">\n",
       "      <th></th>\n",
       "      <th>t_dat</th>\n",
       "      <th>customer_id</th>\n",
       "      <th>article_id</th>\n",
       "    </tr>\n",
       "  </thead>\n",
       "  <tbody>\n",
       "    <tr>\n",
       "      <th>0</th>\n",
       "      <td>2018-09-20</td>\n",
       "      <td>-6846340800584936</td>\n",
       "      <td>663713001</td>\n",
       "    </tr>\n",
       "  </tbody>\n",
       "</table>\n",
       "</div>"
      ],
      "text/plain": [
       "       t_dat       customer_id  article_id\n",
       "0 2018-09-20 -6846340800584936   663713001"
      ]
     },
     "execution_count": 13,
     "metadata": {},
     "output_type": "execute_result"
    }
   ],
   "source": [
    "# For this, we will only need the columns `t_dat`, `customer_id` and `article_id`\n",
    "# So, we can drop the `price` and `sales_channel_id` attributes\n",
    "train.drop(columns=['price', 'sales_channel_id'], inplace=True)\n",
    "train.head(1)"
   ]
  },
  {
   "cell_type": "code",
   "execution_count": 14,
   "id": "7fbd4179",
   "metadata": {
    "execution": {
     "iopub.execute_input": "2022-03-29T07:49:13.753907Z",
     "iopub.status.busy": "2022-03-29T07:49:13.753116Z",
     "iopub.status.idle": "2022-03-29T07:49:13.819359Z",
     "shell.execute_reply": "2022-03-29T07:49:13.819819Z",
     "shell.execute_reply.started": "2022-03-29T07:43:10.158012Z"
    },
    "papermill": {
     "duration": 0.155279,
     "end_time": "2022-03-29T07:49:13.819969",
     "exception": false,
     "start_time": "2022-03-29T07:49:13.664690",
     "status": "completed"
    },
    "tags": []
   },
   "outputs": [
    {
     "data": {
      "text/html": [
       "<div>\n",
       "<style scoped>\n",
       "    .dataframe tbody tr th:only-of-type {\n",
       "        vertical-align: middle;\n",
       "    }\n",
       "\n",
       "    .dataframe tbody tr th {\n",
       "        vertical-align: top;\n",
       "    }\n",
       "\n",
       "    .dataframe thead th {\n",
       "        text-align: right;\n",
       "    }\n",
       "</style>\n",
       "<table border=\"1\" class=\"dataframe\">\n",
       "  <thead>\n",
       "    <tr style=\"text-align: right;\">\n",
       "      <th></th>\n",
       "      <th>customer_id</th>\n",
       "      <th>max_dat</th>\n",
       "    </tr>\n",
       "  </thead>\n",
       "  <tbody>\n",
       "    <tr>\n",
       "      <th>0</th>\n",
       "      <td>-5930446966655949845</td>\n",
       "      <td>2020-03-25</td>\n",
       "    </tr>\n",
       "    <tr>\n",
       "      <th>1</th>\n",
       "      <td>6138898004712415003</td>\n",
       "      <td>2020-07-28</td>\n",
       "    </tr>\n",
       "    <tr>\n",
       "      <th>2</th>\n",
       "      <td>-3758009466528006904</td>\n",
       "      <td>2019-04-15</td>\n",
       "    </tr>\n",
       "    <tr>\n",
       "      <th>3</th>\n",
       "      <td>-4320000672183660287</td>\n",
       "      <td>2019-12-03</td>\n",
       "    </tr>\n",
       "    <tr>\n",
       "      <th>4</th>\n",
       "      <td>-4194961289286638255</td>\n",
       "      <td>2020-04-20</td>\n",
       "    </tr>\n",
       "  </tbody>\n",
       "</table>\n",
       "</div>"
      ],
      "text/plain": [
       "           customer_id    max_dat\n",
       "0 -5930446966655949845 2020-03-25\n",
       "1  6138898004712415003 2020-07-28\n",
       "2 -3758009466528006904 2019-04-15\n",
       "3 -4320000672183660287 2019-12-03\n",
       "4 -4194961289286638255 2020-04-20"
      ]
     },
     "execution_count": 14,
     "metadata": {},
     "output_type": "execute_result"
    }
   ],
   "source": [
    "# For each customer, compute the last date of purchases, individually\n",
    "train_grouped_customer_id = train.groupby('customer_id')\n",
    "train_last_purchase = train_grouped_customer_id['t_dat'].max()\n",
    "train_last_purchase = train_last_purchase.reset_index()\n",
    "train_last_purchase = train_last_purchase.rename(columns={'t_dat': 'max_dat'})\n",
    "train_last_purchase.head()"
   ]
  },
  {
   "cell_type": "code",
   "execution_count": 15,
   "id": "310d8f86",
   "metadata": {
    "execution": {
     "iopub.execute_input": "2022-03-29T07:49:14.005655Z",
     "iopub.status.busy": "2022-03-29T07:49:14.004882Z",
     "iopub.status.idle": "2022-03-29T07:49:14.057306Z",
     "shell.execute_reply": "2022-03-29T07:49:14.056913Z",
     "shell.execute_reply.started": "2022-03-29T07:43:10.224114Z"
    },
    "papermill": {
     "duration": 0.160685,
     "end_time": "2022-03-29T07:49:14.057454",
     "exception": false,
     "start_time": "2022-03-29T07:49:13.896769",
     "status": "completed"
    },
    "tags": []
   },
   "outputs": [
    {
     "data": {
      "text/html": [
       "<div>\n",
       "<style scoped>\n",
       "    .dataframe tbody tr th:only-of-type {\n",
       "        vertical-align: middle;\n",
       "    }\n",
       "\n",
       "    .dataframe tbody tr th {\n",
       "        vertical-align: top;\n",
       "    }\n",
       "\n",
       "    .dataframe thead th {\n",
       "        text-align: right;\n",
       "    }\n",
       "</style>\n",
       "<table border=\"1\" class=\"dataframe\">\n",
       "  <thead>\n",
       "    <tr style=\"text-align: right;\">\n",
       "      <th></th>\n",
       "      <th>t_dat</th>\n",
       "      <th>customer_id</th>\n",
       "      <th>article_id</th>\n",
       "      <th>max_dat</th>\n",
       "    </tr>\n",
       "  </thead>\n",
       "  <tbody>\n",
       "    <tr>\n",
       "      <th>0</th>\n",
       "      <td>2018-09-21</td>\n",
       "      <td>-4745167340148134637</td>\n",
       "      <td>637194001</td>\n",
       "      <td>2020-07-11</td>\n",
       "    </tr>\n",
       "    <tr>\n",
       "      <th>1</th>\n",
       "      <td>2018-09-21</td>\n",
       "      <td>-4745167340148134637</td>\n",
       "      <td>627147001</td>\n",
       "      <td>2020-07-11</td>\n",
       "    </tr>\n",
       "    <tr>\n",
       "      <th>2</th>\n",
       "      <td>2018-09-21</td>\n",
       "      <td>-4745167340148134637</td>\n",
       "      <td>627147002</td>\n",
       "      <td>2020-07-11</td>\n",
       "    </tr>\n",
       "    <tr>\n",
       "      <th>3</th>\n",
       "      <td>2018-09-21</td>\n",
       "      <td>-4745167340148134637</td>\n",
       "      <td>464454011</td>\n",
       "      <td>2020-07-11</td>\n",
       "    </tr>\n",
       "    <tr>\n",
       "      <th>4</th>\n",
       "      <td>2018-09-21</td>\n",
       "      <td>-4745167340148134637</td>\n",
       "      <td>637194001</td>\n",
       "      <td>2020-07-11</td>\n",
       "    </tr>\n",
       "  </tbody>\n",
       "</table>\n",
       "</div>"
      ],
      "text/plain": [
       "       t_dat          customer_id  article_id    max_dat\n",
       "0 2018-09-21 -4745167340148134637   637194001 2020-07-11\n",
       "1 2018-09-21 -4745167340148134637   627147001 2020-07-11\n",
       "2 2018-09-21 -4745167340148134637   627147002 2020-07-11\n",
       "3 2018-09-21 -4745167340148134637   464454011 2020-07-11\n",
       "4 2018-09-21 -4745167340148134637   637194001 2020-07-11"
      ]
     },
     "execution_count": 15,
     "metadata": {},
     "output_type": "execute_result"
    }
   ],
   "source": [
    "# Let's now merge the `max_dat` column to the `train` df\n",
    "train = train.merge(train_last_purchase, on=['customer_id'], how='left')\n",
    "train.head()"
   ]
  },
  {
   "cell_type": "code",
   "execution_count": 16,
   "id": "ce7f2b2a",
   "metadata": {
    "execution": {
     "iopub.execute_input": "2022-03-29T07:49:14.398367Z",
     "iopub.status.busy": "2022-03-29T07:49:14.213143Z",
     "iopub.status.idle": "2022-03-29T07:49:14.400986Z",
     "shell.execute_reply": "2022-03-29T07:49:14.401424Z",
     "shell.execute_reply.started": "2022-03-29T07:43:10.305999Z"
    },
    "papermill": {
     "duration": 0.267196,
     "end_time": "2022-03-29T07:49:14.401569",
     "exception": false,
     "start_time": "2022-03-29T07:49:14.134373",
     "status": "completed"
    },
    "tags": []
   },
   "outputs": [
    {
     "data": {
      "text/plain": [
       "72"
      ]
     },
     "execution_count": 16,
     "metadata": {},
     "output_type": "execute_result"
    }
   ],
   "source": [
    "# Delete unused objects\n",
    "del train_grouped_customer_id\n",
    "del train_last_purchase\n",
    "gc.collect()"
   ]
  },
  {
   "cell_type": "code",
   "execution_count": 17,
   "id": "52ad91ff",
   "metadata": {
    "execution": {
     "iopub.execute_input": "2022-03-29T07:49:14.566075Z",
     "iopub.status.busy": "2022-03-29T07:49:14.565258Z",
     "iopub.status.idle": "2022-03-29T07:49:14.607793Z",
     "shell.execute_reply": "2022-03-29T07:49:14.607338Z",
     "shell.execute_reply.started": "2022-03-29T07:43:10.591328Z"
    },
    "papermill": {
     "duration": 0.128528,
     "end_time": "2022-03-29T07:49:14.607903",
     "exception": false,
     "start_time": "2022-03-29T07:49:14.479375",
     "status": "completed"
    },
    "tags": []
   },
   "outputs": [],
   "source": [
    "# We can now compute the difference between the `max_dat` and `t_dat`\n",
    "# In other words, calculate last_purchase_date - curr_purchase_date, for each customer's transaction\n",
    "train['diff_dat'] = train['max_dat'] - train['t_dat']\n",
    "\n",
    "# Convert to days\n",
    "train['diff_dat'] = train['diff_dat'].dt.days\n",
    "\n",
    "# Now, select purchases within the last 2 weeks \n",
    "train = train.loc[train['diff_dat'] <= 14]"
   ]
  },
  {
   "cell_type": "code",
   "execution_count": 18,
   "id": "b8ed038d",
   "metadata": {
    "execution": {
     "iopub.execute_input": "2022-03-29T07:49:14.772137Z",
     "iopub.status.busy": "2022-03-29T07:49:14.771291Z",
     "iopub.status.idle": "2022-03-29T07:49:14.789807Z",
     "shell.execute_reply": "2022-03-29T07:49:14.789282Z",
     "shell.execute_reply.started": "2022-03-29T07:43:10.640909Z"
    },
    "papermill": {
     "duration": 0.103821,
     "end_time": "2022-03-29T07:49:14.789922",
     "exception": false,
     "start_time": "2022-03-29T07:49:14.686101",
     "status": "completed"
    },
    "tags": []
   },
   "outputs": [
    {
     "data": {
      "text/html": [
       "<div>\n",
       "<style scoped>\n",
       "    .dataframe tbody tr th:only-of-type {\n",
       "        vertical-align: middle;\n",
       "    }\n",
       "\n",
       "    .dataframe tbody tr th {\n",
       "        vertical-align: top;\n",
       "    }\n",
       "\n",
       "    .dataframe thead th {\n",
       "        text-align: right;\n",
       "    }\n",
       "</style>\n",
       "<table border=\"1\" class=\"dataframe\">\n",
       "  <thead>\n",
       "    <tr style=\"text-align: right;\">\n",
       "      <th></th>\n",
       "      <th>t_dat</th>\n",
       "      <th>customer_id</th>\n",
       "      <th>article_id</th>\n",
       "      <th>max_dat</th>\n",
       "      <th>diff_dat</th>\n",
       "    </tr>\n",
       "  </thead>\n",
       "  <tbody>\n",
       "    <tr>\n",
       "      <th>288</th>\n",
       "      <td>2018-09-20</td>\n",
       "      <td>1724137143448920012</td>\n",
       "      <td>653337002</td>\n",
       "      <td>2018-09-20</td>\n",
       "      <td>0</td>\n",
       "    </tr>\n",
       "    <tr>\n",
       "      <th>289</th>\n",
       "      <td>2018-09-20</td>\n",
       "      <td>1724137143448920012</td>\n",
       "      <td>650799002</td>\n",
       "      <td>2018-09-20</td>\n",
       "      <td>0</td>\n",
       "    </tr>\n",
       "    <tr>\n",
       "      <th>290</th>\n",
       "      <td>2018-09-20</td>\n",
       "      <td>1724137143448920012</td>\n",
       "      <td>575074001</td>\n",
       "      <td>2018-09-20</td>\n",
       "      <td>0</td>\n",
       "    </tr>\n",
       "    <tr>\n",
       "      <th>291</th>\n",
       "      <td>2018-09-20</td>\n",
       "      <td>1724137143448920012</td>\n",
       "      <td>553488008</td>\n",
       "      <td>2018-09-20</td>\n",
       "      <td>0</td>\n",
       "    </tr>\n",
       "    <tr>\n",
       "      <th>292</th>\n",
       "      <td>2018-09-20</td>\n",
       "      <td>1724137143448920012</td>\n",
       "      <td>673806003</td>\n",
       "      <td>2018-09-20</td>\n",
       "      <td>0</td>\n",
       "    </tr>\n",
       "  </tbody>\n",
       "</table>\n",
       "</div>"
      ],
      "text/plain": [
       "         t_dat          customer_id  article_id    max_dat  diff_dat\n",
       "288 2018-09-20  1724137143448920012   653337002 2018-09-20         0\n",
       "289 2018-09-20  1724137143448920012   650799002 2018-09-20         0\n",
       "290 2018-09-20  1724137143448920012   575074001 2018-09-20         0\n",
       "291 2018-09-20  1724137143448920012   553488008 2018-09-20         0\n",
       "292 2018-09-20  1724137143448920012   673806003 2018-09-20         0"
      ]
     },
     "execution_count": 18,
     "metadata": {},
     "output_type": "execute_result"
    }
   ],
   "source": [
    "train.head()"
   ]
  },
  {
   "cell_type": "code",
   "execution_count": 19,
   "id": "b2e48807",
   "metadata": {
    "execution": {
     "iopub.execute_input": "2022-03-29T07:49:14.952647Z",
     "iopub.status.busy": "2022-03-29T07:49:14.952024Z",
     "iopub.status.idle": "2022-03-29T07:49:14.954636Z",
     "shell.execute_reply": "2022-03-29T07:49:14.955041Z",
     "shell.execute_reply.started": "2022-03-29T07:43:10.673941Z"
    },
    "papermill": {
     "duration": 0.08632,
     "end_time": "2022-03-29T07:49:14.955163",
     "exception": false,
     "start_time": "2022-03-29T07:49:14.868843",
     "status": "completed"
    },
    "tags": []
   },
   "outputs": [
    {
     "data": {
      "text/plain": [
       "(5672883, 5)"
      ]
     },
     "execution_count": 19,
     "metadata": {},
     "output_type": "execute_result"
    }
   ],
   "source": [
    "# ~5.6mil customers who bought articles in the last 2 weeks\n",
    "train.shape"
   ]
  },
  {
   "cell_type": "code",
   "execution_count": 20,
   "id": "402a862e",
   "metadata": {
    "execution": {
     "iopub.execute_input": "2022-03-29T07:49:15.119337Z",
     "iopub.status.busy": "2022-03-29T07:49:15.118603Z",
     "iopub.status.idle": "2022-03-29T07:49:15.185530Z",
     "shell.execute_reply": "2022-03-29T07:49:15.185095Z",
     "shell.execute_reply.started": "2022-03-29T07:43:10.681917Z"
    },
    "papermill": {
     "duration": 0.150439,
     "end_time": "2022-03-29T07:49:15.185644",
     "exception": false,
     "start_time": "2022-03-29T07:49:15.035205",
     "status": "completed"
    },
    "tags": []
   },
   "outputs": [
    {
     "data": {
      "text/html": [
       "<div>\n",
       "<style scoped>\n",
       "    .dataframe tbody tr th:only-of-type {\n",
       "        vertical-align: middle;\n",
       "    }\n",
       "\n",
       "    .dataframe tbody tr th {\n",
       "        vertical-align: top;\n",
       "    }\n",
       "\n",
       "    .dataframe thead th {\n",
       "        text-align: right;\n",
       "    }\n",
       "</style>\n",
       "<table border=\"1\" class=\"dataframe\">\n",
       "  <thead>\n",
       "    <tr style=\"text-align: right;\">\n",
       "      <th></th>\n",
       "      <th>customer_id</th>\n",
       "      <th>article_id</th>\n",
       "      <th>count</th>\n",
       "    </tr>\n",
       "  </thead>\n",
       "  <tbody>\n",
       "    <tr>\n",
       "      <th>0</th>\n",
       "      <td>2729025827381139556</td>\n",
       "      <td>719348003</td>\n",
       "      <td>100</td>\n",
       "    </tr>\n",
       "    <tr>\n",
       "      <th>1</th>\n",
       "      <td>4485518665254175540</td>\n",
       "      <td>557247001</td>\n",
       "      <td>86</td>\n",
       "    </tr>\n",
       "    <tr>\n",
       "      <th>2</th>\n",
       "      <td>-906958334866810496</td>\n",
       "      <td>852521001</td>\n",
       "      <td>81</td>\n",
       "    </tr>\n",
       "    <tr>\n",
       "      <th>3</th>\n",
       "      <td>-4601407992705575197</td>\n",
       "      <td>695545001</td>\n",
       "      <td>80</td>\n",
       "    </tr>\n",
       "    <tr>\n",
       "      <th>4</th>\n",
       "      <td>3601599666106972342</td>\n",
       "      <td>685813001</td>\n",
       "      <td>80</td>\n",
       "    </tr>\n",
       "  </tbody>\n",
       "</table>\n",
       "</div>"
      ],
      "text/plain": [
       "           customer_id  article_id  count\n",
       "0  2729025827381139556   719348003    100\n",
       "1  4485518665254175540   557247001     86\n",
       "2  -906958334866810496   852521001     81\n",
       "3 -4601407992705575197   695545001     80\n",
       "4  3601599666106972342   685813001     80"
      ]
     },
     "execution_count": 20,
     "metadata": {},
     "output_type": "execute_result"
    }
   ],
   "source": [
    "# Group data by `customer_id` and `article_id` and count by `t_dat`\n",
    "train_grouped = group_data_by(data=train,\n",
    "                              groupby=['customer_id', 'article_id'],\n",
    "                              countby='t_dat')\n",
    "train_grouped.head()"
   ]
  },
  {
   "cell_type": "code",
   "execution_count": 21,
   "id": "6ee7fb7b",
   "metadata": {
    "execution": {
     "iopub.execute_input": "2022-03-29T07:49:15.363551Z",
     "iopub.status.busy": "2022-03-29T07:49:15.362830Z",
     "iopub.status.idle": "2022-03-29T07:49:15.512951Z",
     "shell.execute_reply": "2022-03-29T07:49:15.512504Z",
     "shell.execute_reply.started": "2022-03-29T07:43:10.758789Z"
    },
    "papermill": {
     "duration": 0.248831,
     "end_time": "2022-03-29T07:49:15.513108",
     "exception": false,
     "start_time": "2022-03-29T07:49:15.264277",
     "status": "completed"
    },
    "tags": []
   },
   "outputs": [],
   "source": [
    "# Merge `train_grouped` and `train`\n",
    "# Sort in descending order by `count` and then by `t_dat`\n",
    "train = train.merge(train_grouped, on=['customer_id', 'article_id'], how='left')\n",
    "train = train.drop_duplicates(['customer_id', 'article_id'])\n",
    "train = train.sort_values(['count','t_dat'], ascending=False)"
   ]
  },
  {
   "cell_type": "code",
   "execution_count": 22,
   "id": "2e9ae9e2",
   "metadata": {
    "execution": {
     "iopub.execute_input": "2022-03-29T07:49:15.681263Z",
     "iopub.status.busy": "2022-03-29T07:49:15.680256Z",
     "iopub.status.idle": "2022-03-29T07:49:15.698774Z",
     "shell.execute_reply": "2022-03-29T07:49:15.699184Z",
     "shell.execute_reply.started": "2022-03-29T07:43:10.942295Z"
    },
    "papermill": {
     "duration": 0.105032,
     "end_time": "2022-03-29T07:49:15.699310",
     "exception": false,
     "start_time": "2022-03-29T07:49:15.594278",
     "status": "completed"
    },
    "tags": []
   },
   "outputs": [
    {
     "data": {
      "text/html": [
       "<div>\n",
       "<style scoped>\n",
       "    .dataframe tbody tr th:only-of-type {\n",
       "        vertical-align: middle;\n",
       "    }\n",
       "\n",
       "    .dataframe tbody tr th {\n",
       "        vertical-align: top;\n",
       "    }\n",
       "\n",
       "    .dataframe thead th {\n",
       "        text-align: right;\n",
       "    }\n",
       "</style>\n",
       "<table border=\"1\" class=\"dataframe\">\n",
       "  <thead>\n",
       "    <tr style=\"text-align: right;\">\n",
       "      <th></th>\n",
       "      <th>t_dat</th>\n",
       "      <th>customer_id</th>\n",
       "      <th>article_id</th>\n",
       "      <th>max_dat</th>\n",
       "      <th>diff_dat</th>\n",
       "      <th>count</th>\n",
       "    </tr>\n",
       "  </thead>\n",
       "  <tbody>\n",
       "    <tr>\n",
       "      <th>1198496</th>\n",
       "      <td>2019-07-16</td>\n",
       "      <td>2729025827381139556</td>\n",
       "      <td>719348003</td>\n",
       "      <td>2019-07-16</td>\n",
       "      <td>0</td>\n",
       "      <td>100</td>\n",
       "    </tr>\n",
       "    <tr>\n",
       "      <th>62529</th>\n",
       "      <td>2018-10-04</td>\n",
       "      <td>4485518665254175540</td>\n",
       "      <td>557247001</td>\n",
       "      <td>2018-10-04</td>\n",
       "      <td>0</td>\n",
       "      <td>86</td>\n",
       "    </tr>\n",
       "    <tr>\n",
       "      <th>2237863</th>\n",
       "      <td>2020-03-04</td>\n",
       "      <td>-906958334866810496</td>\n",
       "      <td>852521001</td>\n",
       "      <td>2020-03-06</td>\n",
       "      <td>2</td>\n",
       "      <td>81</td>\n",
       "    </tr>\n",
       "    <tr>\n",
       "      <th>3646432</th>\n",
       "      <td>2020-07-06</td>\n",
       "      <td>3601599666106972342</td>\n",
       "      <td>685813001</td>\n",
       "      <td>2020-07-06</td>\n",
       "      <td>0</td>\n",
       "      <td>80</td>\n",
       "    </tr>\n",
       "    <tr>\n",
       "      <th>873824</th>\n",
       "      <td>2019-05-14</td>\n",
       "      <td>-4601407992705575197</td>\n",
       "      <td>695545001</td>\n",
       "      <td>2019-05-14</td>\n",
       "      <td>0</td>\n",
       "      <td>80</td>\n",
       "    </tr>\n",
       "  </tbody>\n",
       "</table>\n",
       "</div>"
      ],
      "text/plain": [
       "             t_dat          customer_id  article_id    max_dat  diff_dat  \\\n",
       "1198496 2019-07-16  2729025827381139556   719348003 2019-07-16         0   \n",
       "62529   2018-10-04  4485518665254175540   557247001 2018-10-04         0   \n",
       "2237863 2020-03-04  -906958334866810496   852521001 2020-03-06         2   \n",
       "3646432 2020-07-06  3601599666106972342   685813001 2020-07-06         0   \n",
       "873824  2019-05-14 -4601407992705575197   695545001 2019-05-14         0   \n",
       "\n",
       "         count  \n",
       "1198496    100  \n",
       "62529       86  \n",
       "2237863     81  \n",
       "3646432     80  \n",
       "873824      80  "
      ]
     },
     "execution_count": 22,
     "metadata": {},
     "output_type": "execute_result"
    }
   ],
   "source": [
    "train.head()"
   ]
  },
  {
   "cell_type": "code",
   "execution_count": 23,
   "id": "c2f5f0eb",
   "metadata": {
    "execution": {
     "iopub.execute_input": "2022-03-29T07:49:15.861565Z",
     "iopub.status.busy": "2022-03-29T07:49:15.860821Z",
     "iopub.status.idle": "2022-03-29T07:49:15.864009Z",
     "shell.execute_reply": "2022-03-29T07:49:15.863583Z",
     "shell.execute_reply.started": "2022-03-29T07:43:10.973593Z"
    },
    "papermill": {
     "duration": 0.085586,
     "end_time": "2022-03-29T07:49:15.864112",
     "exception": false,
     "start_time": "2022-03-29T07:49:15.778526",
     "status": "completed"
    },
    "tags": []
   },
   "outputs": [
    {
     "data": {
      "text/plain": [
       "(4986109, 6)"
      ]
     },
     "execution_count": 23,
     "metadata": {},
     "output_type": "execute_result"
    }
   ],
   "source": [
    "train.shape"
   ]
  },
  {
   "cell_type": "markdown",
   "id": "d47451ba",
   "metadata": {
    "papermill": {
     "duration": 0.079516,
     "end_time": "2022-03-29T07:49:16.023417",
     "exception": false,
     "start_time": "2022-03-29T07:49:15.943901",
     "status": "completed"
    },
    "tags": []
   },
   "source": [
    "## (ii) Recommend items that are bought together with previous purchases"
   ]
  },
  {
   "cell_type": "code",
   "execution_count": 24,
   "id": "972c0fda",
   "metadata": {
    "execution": {
     "iopub.execute_input": "2022-03-29T07:49:16.193024Z",
     "iopub.status.busy": "2022-03-29T07:49:16.192285Z",
     "iopub.status.idle": "2022-03-29T07:49:16.194835Z",
     "shell.execute_reply": "2022-03-29T07:49:16.194446Z",
     "shell.execute_reply.started": "2022-03-29T07:43:10.980963Z"
    },
    "papermill": {
     "duration": 0.092488,
     "end_time": "2022-03-29T07:49:16.194940",
     "exception": false,
     "start_time": "2022-03-29T07:49:16.102452",
     "status": "completed"
    },
    "tags": []
   },
   "outputs": [],
   "source": [
    "# This function is inspired from:\n",
    "# https://www.kaggle.com/code/cdeotte/customers-who-bought-this-frequently-buy-this/notebook#Find-Items-Purchased-Together\n",
    "def dict_items_freq(data):\n",
    "    \"\"\"\n",
    "    Generate a dictionary of type {itemX: [items_bought_together_with_itemX]}\n",
    "    List of recommended itemes has length maximum of 3\n",
    "    \n",
    "    @param `data`: Dataframe with 2 mandatory columns: `customer_id` `article_id`\n",
    "    @return: Computed dictionary of 'pairs'\n",
    "    \"\"\"\n",
    "    \n",
    "    # Compute a df with the best-selling articles in descending order\n",
    "    best_selling = data['article_id'].value_counts()\n",
    "    \n",
    "    # Create a dictionary with the following `signature`: item -> [bought_together_items]\n",
    "    pairs = {}\n",
    "    for _, i in enumerate(best_selling.index.values[1000:1032]):\n",
    "        # Select the users who bought the current `item`\n",
    "        users = data.loc[data['article_id'] == i.item(), 'customer_id'].unique()\n",
    "        \n",
    "        # Compute a df with the most similar articles with the current `item` (excluding itself)\n",
    "        best_selling_similars = data.loc[(data['customer_id'].isin(users)) &             \\\n",
    "                                        (data['article_id'] != i.item()), 'article_id']  \\\n",
    "                                     .value_counts()\n",
    "        \n",
    "        # Assign a list of 3 `bought_together_items` to the current `item`\n",
    "        pairs[i.item()] = [best_selling_similars.index[0],\n",
    "                           best_selling_similars.index[1],\n",
    "                           best_selling_similars.index[2]]\n",
    "    return pairs"
   ]
  },
  {
   "cell_type": "code",
   "execution_count": 25,
   "id": "1026c64c",
   "metadata": {
    "execution": {
     "iopub.execute_input": "2022-03-29T07:49:16.359176Z",
     "iopub.status.busy": "2022-03-29T07:49:16.356680Z",
     "iopub.status.idle": "2022-03-29T07:49:18.375099Z",
     "shell.execute_reply": "2022-03-29T07:49:18.374235Z",
     "shell.execute_reply.started": "2022-03-29T07:43:10.991507Z"
    },
    "papermill": {
     "duration": 2.100685,
     "end_time": "2022-03-29T07:49:18.375234",
     "exception": false,
     "start_time": "2022-03-29T07:49:16.274549",
     "status": "completed"
    },
    "tags": []
   },
   "outputs": [],
   "source": [
    "# Generate the dictionary of items frequently purchased together\n",
    "pairs = dict_items_freq(train)"
   ]
  },
  {
   "cell_type": "code",
   "execution_count": 26,
   "id": "2089dcad",
   "metadata": {
    "execution": {
     "iopub.execute_input": "2022-03-29T07:49:18.542902Z",
     "iopub.status.busy": "2022-03-29T07:49:18.541791Z",
     "iopub.status.idle": "2022-03-29T07:49:18.836251Z",
     "shell.execute_reply": "2022-03-29T07:49:18.835743Z",
     "shell.execute_reply.started": "2022-03-29T07:43:12.939811Z"
    },
    "papermill": {
     "duration": 0.380647,
     "end_time": "2022-03-29T07:49:18.836398",
     "exception": false,
     "start_time": "2022-03-29T07:49:18.455751",
     "status": "completed"
    },
    "tags": []
   },
   "outputs": [],
   "source": [
    "# Convert from `cudf` to `pandas` for `mapping` each item to another 3 `bought together` items\n",
    "train = train.to_pandas()\n",
    "# Create a new column from dictionary (map each item to a new column)\n",
    "train['article_id_aux'] = train['article_id'].map(pairs)"
   ]
  },
  {
   "cell_type": "code",
   "execution_count": 27,
   "id": "8262c61e",
   "metadata": {
    "execution": {
     "iopub.execute_input": "2022-03-29T07:49:19.013881Z",
     "iopub.status.busy": "2022-03-29T07:49:19.012692Z",
     "iopub.status.idle": "2022-03-29T07:49:19.297419Z",
     "shell.execute_reply": "2022-03-29T07:49:19.296914Z",
     "shell.execute_reply.started": "2022-03-29T07:43:13.401274Z"
    },
    "papermill": {
     "duration": 0.380267,
     "end_time": "2022-03-29T07:49:19.297554",
     "exception": false,
     "start_time": "2022-03-29T07:49:18.917287",
     "status": "completed"
    },
    "tags": []
   },
   "outputs": [],
   "source": [
    "# Create a df with the following columns: `customer_id` -> [`recommend_3_bought_together_items`]\n",
    "train_aux = train[['customer_id', 'article_id_aux']].copy()\n",
    "train_aux = train_aux.rename({'article_id_aux': 'article_id'}, axis=1)\n",
    "train_aux = train_aux.loc[train_aux['article_id'].notnull()]\n",
    "train_aux = train_aux.drop_duplicates(['customer_id'])"
   ]
  },
  {
   "cell_type": "code",
   "execution_count": 28,
   "id": "acef7d12",
   "metadata": {
    "execution": {
     "iopub.execute_input": "2022-03-29T07:49:19.467121Z",
     "iopub.status.busy": "2022-03-29T07:49:19.466461Z",
     "iopub.status.idle": "2022-03-29T07:49:19.469234Z",
     "shell.execute_reply": "2022-03-29T07:49:19.469654Z",
     "shell.execute_reply.started": "2022-03-29T07:43:13.80674Z"
    },
    "papermill": {
     "duration": 0.09251,
     "end_time": "2022-03-29T07:49:19.469782",
     "exception": false,
     "start_time": "2022-03-29T07:49:19.377272",
     "status": "completed"
    },
    "tags": []
   },
   "outputs": [
    {
     "data": {
      "text/html": [
       "<div>\n",
       "<style scoped>\n",
       "    .dataframe tbody tr th:only-of-type {\n",
       "        vertical-align: middle;\n",
       "    }\n",
       "\n",
       "    .dataframe tbody tr th {\n",
       "        vertical-align: top;\n",
       "    }\n",
       "\n",
       "    .dataframe thead th {\n",
       "        text-align: right;\n",
       "    }\n",
       "</style>\n",
       "<table border=\"1\" class=\"dataframe\">\n",
       "  <thead>\n",
       "    <tr style=\"text-align: right;\">\n",
       "      <th></th>\n",
       "      <th>customer_id</th>\n",
       "      <th>article_id</th>\n",
       "    </tr>\n",
       "  </thead>\n",
       "  <tbody>\n",
       "    <tr>\n",
       "      <th>1030528</th>\n",
       "      <td>4384871127594519996</td>\n",
       "      <td>[610776033, 610776040, 610776002]</td>\n",
       "    </tr>\n",
       "    <tr>\n",
       "      <th>797323</th>\n",
       "      <td>-7026014085675726567</td>\n",
       "      <td>[695632001, 697054003, 697054060]</td>\n",
       "    </tr>\n",
       "    <tr>\n",
       "      <th>1857091</th>\n",
       "      <td>5334958048339471082</td>\n",
       "      <td>[612481001, 612481004, 457722001]</td>\n",
       "    </tr>\n",
       "    <tr>\n",
       "      <th>1078176</th>\n",
       "      <td>1084947564514430383</td>\n",
       "      <td>[610776033, 610776040, 610776002]</td>\n",
       "    </tr>\n",
       "    <tr>\n",
       "      <th>4002466</th>\n",
       "      <td>-2145655891269908529</td>\n",
       "      <td>[717490070, 717490010, 717490008]</td>\n",
       "    </tr>\n",
       "  </tbody>\n",
       "</table>\n",
       "</div>"
      ],
      "text/plain": [
       "                 customer_id                         article_id\n",
       "1030528  4384871127594519996  [610776033, 610776040, 610776002]\n",
       "797323  -7026014085675726567  [695632001, 697054003, 697054060]\n",
       "1857091  5334958048339471082  [612481001, 612481004, 457722001]\n",
       "1078176  1084947564514430383  [610776033, 610776040, 610776002]\n",
       "4002466 -2145655891269908529  [717490070, 717490010, 717490008]"
      ]
     },
     "execution_count": 28,
     "metadata": {},
     "output_type": "execute_result"
    }
   ],
   "source": [
    "train_aux.head()"
   ]
  },
  {
   "cell_type": "code",
   "execution_count": 29,
   "id": "95671fde",
   "metadata": {
    "execution": {
     "iopub.execute_input": "2022-03-29T07:49:19.637857Z",
     "iopub.status.busy": "2022-03-29T07:49:19.637132Z",
     "iopub.status.idle": "2022-03-29T07:49:19.639809Z",
     "shell.execute_reply": "2022-03-29T07:49:19.640197Z",
     "shell.execute_reply.started": "2022-03-29T07:43:13.819011Z"
    },
    "papermill": {
     "duration": 0.089392,
     "end_time": "2022-03-29T07:49:19.640335",
     "exception": false,
     "start_time": "2022-03-29T07:49:19.550943",
     "status": "completed"
    },
    "tags": []
   },
   "outputs": [
    {
     "data": {
      "text/plain": [
       "(19018, 2)"
      ]
     },
     "execution_count": 29,
     "metadata": {},
     "output_type": "execute_result"
    }
   ],
   "source": [
    "train_aux.shape"
   ]
  },
  {
   "cell_type": "code",
   "execution_count": 30,
   "id": "4ec7a027",
   "metadata": {
    "execution": {
     "iopub.execute_input": "2022-03-29T07:49:19.837373Z",
     "iopub.status.busy": "2022-03-29T07:49:19.819575Z",
     "iopub.status.idle": "2022-03-29T07:49:20.006871Z",
     "shell.execute_reply": "2022-03-29T07:49:20.006270Z",
     "shell.execute_reply.started": "2022-03-29T07:43:13.83114Z"
    },
    "papermill": {
     "duration": 0.282319,
     "end_time": "2022-03-29T07:49:20.007018",
     "exception": false,
     "start_time": "2022-03-29T07:49:19.724699",
     "status": "completed"
    },
    "tags": []
   },
   "outputs": [],
   "source": [
    "# Keep only the `customer_id` and `article_id` columns\n",
    "train = train[['customer_id','article_id']]\n",
    "# Concatenate the `train` and `train_aux` on rows \n",
    "train = pd.concat([train, train_aux], axis=0, ignore_index=True)"
   ]
  },
  {
   "cell_type": "code",
   "execution_count": 31,
   "id": "3845d700",
   "metadata": {
    "execution": {
     "iopub.execute_input": "2022-03-29T07:49:20.195218Z",
     "iopub.status.busy": "2022-03-29T07:49:20.194495Z",
     "iopub.status.idle": "2022-03-29T07:49:20.197641Z",
     "shell.execute_reply": "2022-03-29T07:49:20.198108Z",
     "shell.execute_reply.started": "2022-03-29T07:43:14.084933Z"
    },
    "papermill": {
     "duration": 0.10553,
     "end_time": "2022-03-29T07:49:20.198248",
     "exception": false,
     "start_time": "2022-03-29T07:49:20.092718",
     "status": "completed"
    },
    "tags": []
   },
   "outputs": [
    {
     "data": {
      "text/html": [
       "<div>\n",
       "<style scoped>\n",
       "    .dataframe tbody tr th:only-of-type {\n",
       "        vertical-align: middle;\n",
       "    }\n",
       "\n",
       "    .dataframe tbody tr th {\n",
       "        vertical-align: top;\n",
       "    }\n",
       "\n",
       "    .dataframe thead th {\n",
       "        text-align: right;\n",
       "    }\n",
       "</style>\n",
       "<table border=\"1\" class=\"dataframe\">\n",
       "  <thead>\n",
       "    <tr style=\"text-align: right;\">\n",
       "      <th></th>\n",
       "      <th>customer_id</th>\n",
       "      <th>article_id</th>\n",
       "    </tr>\n",
       "  </thead>\n",
       "  <tbody>\n",
       "    <tr>\n",
       "      <th>0</th>\n",
       "      <td>2729025827381139556</td>\n",
       "      <td>719348003</td>\n",
       "    </tr>\n",
       "    <tr>\n",
       "      <th>1</th>\n",
       "      <td>4485518665254175540</td>\n",
       "      <td>557247001</td>\n",
       "    </tr>\n",
       "    <tr>\n",
       "      <th>2</th>\n",
       "      <td>-906958334866810496</td>\n",
       "      <td>852521001</td>\n",
       "    </tr>\n",
       "    <tr>\n",
       "      <th>3</th>\n",
       "      <td>3601599666106972342</td>\n",
       "      <td>685813001</td>\n",
       "    </tr>\n",
       "    <tr>\n",
       "      <th>4</th>\n",
       "      <td>-4601407992705575197</td>\n",
       "      <td>695545001</td>\n",
       "    </tr>\n",
       "  </tbody>\n",
       "</table>\n",
       "</div>"
      ],
      "text/plain": [
       "           customer_id article_id\n",
       "0  2729025827381139556  719348003\n",
       "1  4485518665254175540  557247001\n",
       "2  -906958334866810496  852521001\n",
       "3  3601599666106972342  685813001\n",
       "4 -4601407992705575197  695545001"
      ]
     },
     "execution_count": 31,
     "metadata": {},
     "output_type": "execute_result"
    }
   ],
   "source": [
    "train.head()"
   ]
  },
  {
   "cell_type": "code",
   "execution_count": 32,
   "id": "2960f972",
   "metadata": {
    "execution": {
     "iopub.execute_input": "2022-03-29T07:49:20.385663Z",
     "iopub.status.busy": "2022-03-29T07:49:20.384730Z",
     "iopub.status.idle": "2022-03-29T07:49:20.387662Z",
     "shell.execute_reply": "2022-03-29T07:49:20.388157Z",
     "shell.execute_reply.started": "2022-03-29T07:43:14.096117Z"
    },
    "papermill": {
     "duration": 0.094569,
     "end_time": "2022-03-29T07:49:20.388285",
     "exception": false,
     "start_time": "2022-03-29T07:49:20.293716",
     "status": "completed"
    },
    "tags": []
   },
   "outputs": [
    {
     "data": {
      "text/plain": [
       "(5005127, 2)"
      ]
     },
     "execution_count": 32,
     "metadata": {},
     "output_type": "execute_result"
    }
   ],
   "source": [
    "train.shape"
   ]
  },
  {
   "cell_type": "code",
   "execution_count": 33,
   "id": "1d0e2134",
   "metadata": {
    "execution": {
     "iopub.execute_input": "2022-03-29T07:49:20.732312Z",
     "iopub.status.busy": "2022-03-29T07:49:20.731604Z",
     "iopub.status.idle": "2022-03-29T07:49:20.734404Z",
     "shell.execute_reply": "2022-03-29T07:49:20.734797Z",
     "shell.execute_reply.started": "2022-03-29T07:43:14.10675Z"
    },
    "papermill": {
     "duration": 0.264591,
     "end_time": "2022-03-29T07:49:20.734950",
     "exception": false,
     "start_time": "2022-03-29T07:49:20.470359",
     "status": "completed"
    },
    "tags": []
   },
   "outputs": [
    {
     "data": {
      "text/plain": [
       "42"
      ]
     },
     "execution_count": 33,
     "metadata": {},
     "output_type": "execute_result"
    }
   ],
   "source": [
    "# Delete unused objects\n",
    "del train_aux\n",
    "gc.collect()"
   ]
  },
  {
   "cell_type": "code",
   "execution_count": 34,
   "id": "4818e395",
   "metadata": {
    "execution": {
     "iopub.execute_input": "2022-03-29T07:49:20.908374Z",
     "iopub.status.busy": "2022-03-29T07:49:20.907029Z",
     "iopub.status.idle": "2022-03-29T07:49:25.595572Z",
     "shell.execute_reply": "2022-03-29T07:49:25.594677Z",
     "shell.execute_reply.started": "2022-03-29T07:43:14.305618Z"
    },
    "papermill": {
     "duration": 4.77777,
     "end_time": "2022-03-29T07:49:25.595721",
     "exception": false,
     "start_time": "2022-03-29T07:49:20.817951",
     "status": "completed"
    },
    "tags": []
   },
   "outputs": [],
   "source": [
    "# Convert recommendations into a single string\n",
    "train['article_id'] = ' 0' + train['article_id'].astype('str')\n",
    "predictions = cudf.DataFrame(train                            \\\n",
    "                       .groupby('customer_id')['article_id']  \\\n",
    "                       .sum()                                 \\\n",
    "                       .reset_index())\n",
    "predictions.rename(columns={'article_id': 'prediction'}, inplace=True)"
   ]
  },
  {
   "cell_type": "code",
   "execution_count": 35,
   "id": "e97218aa",
   "metadata": {
    "execution": {
     "iopub.execute_input": "2022-03-29T07:49:25.767418Z",
     "iopub.status.busy": "2022-03-29T07:49:25.766654Z",
     "iopub.status.idle": "2022-03-29T07:49:25.778583Z",
     "shell.execute_reply": "2022-03-29T07:49:25.778099Z",
     "shell.execute_reply.started": "2022-03-29T07:43:19.102857Z"
    },
    "papermill": {
     "duration": 0.100046,
     "end_time": "2022-03-29T07:49:25.778696",
     "exception": false,
     "start_time": "2022-03-29T07:49:25.678650",
     "status": "completed"
    },
    "tags": []
   },
   "outputs": [
    {
     "data": {
      "text/html": [
       "<div>\n",
       "<style scoped>\n",
       "    .dataframe tbody tr th:only-of-type {\n",
       "        vertical-align: middle;\n",
       "    }\n",
       "\n",
       "    .dataframe tbody tr th {\n",
       "        vertical-align: top;\n",
       "    }\n",
       "\n",
       "    .dataframe thead th {\n",
       "        text-align: right;\n",
       "    }\n",
       "</style>\n",
       "<table border=\"1\" class=\"dataframe\">\n",
       "  <thead>\n",
       "    <tr style=\"text-align: right;\">\n",
       "      <th></th>\n",
       "      <th>customer_id</th>\n",
       "      <th>prediction</th>\n",
       "    </tr>\n",
       "  </thead>\n",
       "  <tbody>\n",
       "    <tr>\n",
       "      <th>0</th>\n",
       "      <td>-9223352921020755230</td>\n",
       "      <td>0673396002 0812167004</td>\n",
       "    </tr>\n",
       "    <tr>\n",
       "      <th>1</th>\n",
       "      <td>-9223343869995384291</td>\n",
       "      <td>0908292002 0910601003 0865929007 0903926002</td>\n",
       "    </tr>\n",
       "    <tr>\n",
       "      <th>2</th>\n",
       "      <td>-9223321797620987725</td>\n",
       "      <td>0580600006 0610776035</td>\n",
       "    </tr>\n",
       "    <tr>\n",
       "      <th>3</th>\n",
       "      <td>-9223319430705797669</td>\n",
       "      <td>0470985003 0504155001 0554477005 0562245001 0...</td>\n",
       "    </tr>\n",
       "    <tr>\n",
       "      <th>4</th>\n",
       "      <td>-9223308614576639426</td>\n",
       "      <td>0750423005</td>\n",
       "    </tr>\n",
       "  </tbody>\n",
       "</table>\n",
       "</div>"
      ],
      "text/plain": [
       "           customer_id                                         prediction\n",
       "0 -9223352921020755230                              0673396002 0812167004\n",
       "1 -9223343869995384291        0908292002 0910601003 0865929007 0903926002\n",
       "2 -9223321797620987725                              0580600006 0610776035\n",
       "3 -9223319430705797669   0470985003 0504155001 0554477005 0562245001 0...\n",
       "4 -9223308614576639426                                         0750423005"
      ]
     },
     "execution_count": 35,
     "metadata": {},
     "output_type": "execute_result"
    }
   ],
   "source": [
    "predictions.head()"
   ]
  },
  {
   "cell_type": "markdown",
   "id": "a3aaee1e",
   "metadata": {
    "papermill": {
     "duration": 0.08248,
     "end_time": "2022-03-29T07:49:25.943366",
     "exception": false,
     "start_time": "2022-03-29T07:49:25.860886",
     "status": "completed"
    },
    "tags": []
   },
   "source": [
    "## (iii) Recommend last 2 weeks popular items"
   ]
  },
  {
   "cell_type": "code",
   "execution_count": 36,
   "id": "27285689",
   "metadata": {
    "execution": {
     "iopub.execute_input": "2022-03-29T07:49:26.117492Z",
     "iopub.status.busy": "2022-03-29T07:49:26.116891Z",
     "iopub.status.idle": "2022-03-29T07:49:27.377964Z",
     "shell.execute_reply": "2022-03-29T07:49:27.378557Z",
     "shell.execute_reply.started": "2022-03-29T07:43:19.124953Z"
    },
    "papermill": {
     "duration": 1.353168,
     "end_time": "2022-03-29T07:49:27.378746",
     "exception": false,
     "start_time": "2022-03-29T07:49:26.025578",
     "status": "completed"
    },
    "tags": []
   },
   "outputs": [
    {
     "name": "stdout",
     "output_type": "stream",
     "text": [
      "Top 10 popular items within the last 14 days:\n",
      " 0909370001 0924243001 0918522001 0865799006 0751471001 0448509014 0762846027 0918292001 0923758001 0924243002\n"
     ]
    }
   ],
   "source": [
    "# Customizable variables\n",
    "last_n_days = 14\n",
    "top_n_popular_items = 10\n",
    "\n",
    "# Open the `reduced memory train df`\n",
    "train = cudf.read_parquet('train.pqt')\n",
    "\n",
    "# Convert `t_dat` field to `cudf datetime`\n",
    "# Serialization doesn't keep the `datetime` format\n",
    "train['t_dat'] = cudf.to_datetime(train['t_dat'])\n",
    "\n",
    "# Keep only the `last_n_days` entries\n",
    "train = train.loc[train['t_dat'] >= cudf.to_datetime(train['t_dat'].max() - np.timedelta64(last_n_days, 'D'))]\n",
    "\n",
    "# Compute the `top_n_popular_items` popular items within the`last_n_days`\n",
    "top = ' 0' + ' 0'.join(train['article_id'].value_counts().to_pandas().index.astype('str')[:top_n_popular_items])\n",
    "print(f'Top {top_n_popular_items} popular items within the last {last_n_days} days:')\n",
    "print(top)"
   ]
  },
  {
   "cell_type": "markdown",
   "id": "69228a64",
   "metadata": {
    "papermill": {
     "duration": 0.083251,
     "end_time": "2022-03-29T07:49:27.550162",
     "exception": false,
     "start_time": "2022-03-29T07:49:27.466911",
     "status": "completed"
    },
    "tags": []
   },
   "source": [
    "## Generate submission file"
   ]
  },
  {
   "cell_type": "code",
   "execution_count": 37,
   "id": "c3e6cb4a",
   "metadata": {
    "execution": {
     "iopub.execute_input": "2022-03-29T07:49:27.726499Z",
     "iopub.status.busy": "2022-03-29T07:49:27.725822Z",
     "iopub.status.idle": "2022-03-29T07:49:31.728759Z",
     "shell.execute_reply": "2022-03-29T07:49:31.728250Z",
     "shell.execute_reply.started": "2022-03-29T07:43:19.951034Z"
    },
    "papermill": {
     "duration": 4.094256,
     "end_time": "2022-03-29T07:49:31.728892",
     "exception": false,
     "start_time": "2022-03-29T07:49:27.634636",
     "status": "completed"
    },
    "tags": []
   },
   "outputs": [],
   "source": [
    "# Open the `submission_sample` df\n",
    "submission = cudf.read_csv(SAMPLE_SUBMISSION_PATH)\n",
    "submission = submission[['customer_id']]\n",
    "\n",
    "# Reduce `customer_id` size (64bytes -> 8bytes)\n",
    "submission['customer_id_aux'] = submission['customer_id'] \\\n",
    "                                .str[-16:]                \\\n",
    "                                .str.hex_to_int()         \\\n",
    "                                .astype('int64')\n",
    "\n",
    "# Rename `customer_id` to `customer_id_aux` for being able to merge them\n",
    "predictions.rename({'customer_id': 'customer_id_aux'}, axis=1, inplace=True)\n",
    "\n",
    "# Merge the `submission` df with the `predictions` df,\n",
    "# filling the missing values with the empty string\n",
    "submission = submission.merge(predictions, on='customer_id_aux', how='left').fillna('')\n",
    "\n",
    "# Remove the `customer_id_aux` column\n",
    "del submission['customer_id_aux']\n",
    "\n",
    "# Append the `top` popular items to the current predictions\n",
    "submission['prediction'] = submission['prediction'] + top\n",
    "\n",
    "# Convert to string and remove redundant spaces\n",
    "submission['prediction'] = submission['prediction'].str.strip()\n",
    "\n",
    "# Each `article_id` from the `prediction` column has exactly 10 characters\n",
    "# So, if we want to predict 1 item, we need 10 characters\n",
    "# 2 items -> 2 * 10 + 1 (space between them)\n",
    "# 3 items -> 3 * 10 + 2 (spaces between them)\n",
    "# ...\n",
    "# n items -> n * 10 + (n - 1) = 11 * n - 1\n",
    "predict_n_items = 12\n",
    "characters_required = 11 * predict_n_items - 1\n",
    "submission['prediction'] = submission['prediction'].str[:characters_required]\n",
    "\n",
    "# Generate the `submission.csv` file\n",
    "submission.to_csv('submission.csv', index=False)"
   ]
  },
  {
   "cell_type": "code",
   "execution_count": 38,
   "id": "ef2af65a",
   "metadata": {
    "execution": {
     "iopub.execute_input": "2022-03-29T07:49:31.900605Z",
     "iopub.status.busy": "2022-03-29T07:49:31.899928Z",
     "iopub.status.idle": "2022-03-29T07:49:31.902543Z",
     "shell.execute_reply": "2022-03-29T07:49:31.902950Z",
     "shell.execute_reply.started": "2022-03-29T07:43:21.738431Z"
    },
    "papermill": {
     "duration": 0.090513,
     "end_time": "2022-03-29T07:49:31.903076",
     "exception": false,
     "start_time": "2022-03-29T07:49:31.812563",
     "status": "completed"
    },
    "tags": []
   },
   "outputs": [
    {
     "data": {
      "text/plain": [
       "(1371980, 2)"
      ]
     },
     "execution_count": 38,
     "metadata": {},
     "output_type": "execute_result"
    }
   ],
   "source": [
    "submission.shape"
   ]
  },
  {
   "cell_type": "code",
   "execution_count": 39,
   "id": "a5e5795d",
   "metadata": {
    "execution": {
     "iopub.execute_input": "2022-03-29T07:49:32.075184Z",
     "iopub.status.busy": "2022-03-29T07:49:32.074421Z",
     "iopub.status.idle": "2022-03-29T07:49:32.085592Z",
     "shell.execute_reply": "2022-03-29T07:49:32.085994Z",
     "shell.execute_reply.started": "2022-03-29T07:43:21.747555Z"
    },
    "papermill": {
     "duration": 0.100383,
     "end_time": "2022-03-29T07:49:32.086117",
     "exception": false,
     "start_time": "2022-03-29T07:49:31.985734",
     "status": "completed"
    },
    "tags": []
   },
   "outputs": [
    {
     "data": {
      "text/html": [
       "<div>\n",
       "<style scoped>\n",
       "    .dataframe tbody tr th:only-of-type {\n",
       "        vertical-align: middle;\n",
       "    }\n",
       "\n",
       "    .dataframe tbody tr th {\n",
       "        vertical-align: top;\n",
       "    }\n",
       "\n",
       "    .dataframe thead th {\n",
       "        text-align: right;\n",
       "    }\n",
       "</style>\n",
       "<table border=\"1\" class=\"dataframe\">\n",
       "  <thead>\n",
       "    <tr style=\"text-align: right;\">\n",
       "      <th></th>\n",
       "      <th>customer_id</th>\n",
       "      <th>prediction</th>\n",
       "    </tr>\n",
       "  </thead>\n",
       "  <tbody>\n",
       "    <tr>\n",
       "      <th>0</th>\n",
       "      <td>04af23e7e5b18a112abed6425d6cef3b97c73513db7a5b...</td>\n",
       "      <td>0575347003 0909370001 0924243001 0918522001 08...</td>\n",
       "    </tr>\n",
       "    <tr>\n",
       "      <th>1</th>\n",
       "      <td>04afd016328ced98ac87f8070ee48c7a538e91635b439a...</td>\n",
       "      <td>0757828001 0909370001 0924243001 0918522001 08...</td>\n",
       "    </tr>\n",
       "    <tr>\n",
       "      <th>2</th>\n",
       "      <td>04af76f58341a61c87e369d07a80c795f6b3b801a0a5cc...</td>\n",
       "      <td>0767869001 0812525001 0909370001 0924243001 09...</td>\n",
       "    </tr>\n",
       "    <tr>\n",
       "      <th>3</th>\n",
       "      <td>04b050539301d5de3c9bb7d39bc622bb114e69807602f1...</td>\n",
       "      <td>0733099001 0733099003 0909370001 0924243001 09...</td>\n",
       "    </tr>\n",
       "    <tr>\n",
       "      <th>4</th>\n",
       "      <td>04af2f029881fdb3b4c74142c3c8c77cca06039fce5faf...</td>\n",
       "      <td>0713875003 0707293004 0909370001 0924243001 09...</td>\n",
       "    </tr>\n",
       "  </tbody>\n",
       "</table>\n",
       "</div>"
      ],
      "text/plain": [
       "                                         customer_id  \\\n",
       "0  04af23e7e5b18a112abed6425d6cef3b97c73513db7a5b...   \n",
       "1  04afd016328ced98ac87f8070ee48c7a538e91635b439a...   \n",
       "2  04af76f58341a61c87e369d07a80c795f6b3b801a0a5cc...   \n",
       "3  04b050539301d5de3c9bb7d39bc622bb114e69807602f1...   \n",
       "4  04af2f029881fdb3b4c74142c3c8c77cca06039fce5faf...   \n",
       "\n",
       "                                          prediction  \n",
       "0  0575347003 0909370001 0924243001 0918522001 08...  \n",
       "1  0757828001 0909370001 0924243001 0918522001 08...  \n",
       "2  0767869001 0812525001 0909370001 0924243001 09...  \n",
       "3  0733099001 0733099003 0909370001 0924243001 09...  \n",
       "4  0713875003 0707293004 0909370001 0924243001 09...  "
      ]
     },
     "execution_count": 39,
     "metadata": {},
     "output_type": "execute_result"
    }
   ],
   "source": [
    "submission.head()"
   ]
  },
  {
   "cell_type": "code",
   "execution_count": 40,
   "id": "36d5c1b4",
   "metadata": {
    "execution": {
     "iopub.execute_input": "2022-03-29T07:49:32.465461Z",
     "iopub.status.busy": "2022-03-29T07:49:32.464504Z",
     "iopub.status.idle": "2022-03-29T07:49:32.467526Z",
     "shell.execute_reply": "2022-03-29T07:49:32.467930Z",
     "shell.execute_reply.started": "2022-03-29T07:43:21.777902Z"
    },
    "papermill": {
     "duration": 0.299489,
     "end_time": "2022-03-29T07:49:32.468075",
     "exception": false,
     "start_time": "2022-03-29T07:49:32.168586",
     "status": "completed"
    },
    "tags": []
   },
   "outputs": [
    {
     "data": {
      "text/plain": [
       "1461"
      ]
     },
     "execution_count": 40,
     "metadata": {},
     "output_type": "execute_result"
    }
   ],
   "source": [
    "del transactions\n",
    "del customers\n",
    "del articles\n",
    "del train\n",
    "del predictions\n",
    "del submission\n",
    "gc.collect()"
   ]
  },
  {
   "cell_type": "code",
   "execution_count": 41,
   "id": "3155e9c6",
   "metadata": {
    "execution": {
     "iopub.execute_input": "2022-03-29T07:49:32.638928Z",
     "iopub.status.busy": "2022-03-29T07:49:32.638188Z",
     "iopub.status.idle": "2022-03-29T07:49:32.640534Z",
     "shell.execute_reply": "2022-03-29T07:49:32.640109Z",
     "shell.execute_reply.started": "2022-03-29T07:43:22.071679Z"
    },
    "papermill": {
     "duration": 0.088813,
     "end_time": "2022-03-29T07:49:32.640647",
     "exception": false,
     "start_time": "2022-03-29T07:49:32.551834",
     "status": "completed"
    },
    "tags": []
   },
   "outputs": [],
   "source": [
    "# alg1_score: 0.0210"
   ]
  },
  {
   "cell_type": "markdown",
   "id": "747e1452",
   "metadata": {
    "papermill": {
     "duration": 0.083518,
     "end_time": "2022-03-29T07:49:32.807903",
     "exception": false,
     "start_time": "2022-03-29T07:49:32.724385",
     "status": "completed"
    },
    "tags": []
   },
   "source": [
    "# 2. ALS Model"
   ]
  },
  {
   "cell_type": "markdown",
   "id": "d87cf310",
   "metadata": {
    "papermill": {
     "duration": 0.082909,
     "end_time": "2022-03-29T07:49:32.975433",
     "exception": false,
     "start_time": "2022-03-29T07:49:32.892524",
     "status": "completed"
    },
    "tags": []
   },
   "source": [
    "**In this part of the notebook I will use the [implicit](https://github.com/benfred/implicit/) library. It's a module used for recommender\n",
    "systems and has GPU support, which is nice.**\n",
    "\n",
    "**It has a lot of models, but I will use the `AlternatingLeastSquares` algorithm. You can read more about this approach [here](https://towardsdatascience.com/prototyping-a-recommender-system-step-by-step-part-2-alternating-least-square-als-matrix-4a76c58714a1).**\n",
    "\n",
    "**There were done a lot of changes recently in the API, so be aware of that. This notebook uses the version 0.5.2, so everything newer than 0.5.0 should work well.**\n",
    "\n",
    "**Older versions of the package doesn't have support for batch (multi-users) recommendations, hence the process it's slower when recommending items for each user individually.**"
   ]
  },
  {
   "cell_type": "markdown",
   "id": "d48e4b10",
   "metadata": {
    "papermill": {
     "duration": 0.082458,
     "end_time": "2022-03-29T07:49:33.140763",
     "exception": false,
     "start_time": "2022-03-29T07:49:33.058305",
     "status": "completed"
    },
    "tags": []
   },
   "source": [
    "## Imports"
   ]
  },
  {
   "cell_type": "code",
   "execution_count": 42,
   "id": "600bbd73",
   "metadata": {
    "execution": {
     "iopub.execute_input": "2022-03-29T07:49:33.315870Z",
     "iopub.status.busy": "2022-03-29T07:49:33.315094Z",
     "iopub.status.idle": "2022-03-29T07:49:55.015719Z",
     "shell.execute_reply": "2022-03-29T07:49:55.015145Z",
     "shell.execute_reply.started": "2022-03-29T07:43:22.078349Z"
    },
    "papermill": {
     "duration": 21.791761,
     "end_time": "2022-03-29T07:49:55.015866",
     "exception": false,
     "start_time": "2022-03-29T07:49:33.224105",
     "status": "completed"
    },
    "tags": []
   },
   "outputs": [
    {
     "name": "stdout",
     "output_type": "stream",
     "text": [
      "Requirement already satisfied: implicit in /opt/conda/lib/python3.7/site-packages (0.4.4)\r\n",
      "Collecting implicit\r\n",
      "  Downloading implicit-0.5.2-cp37-cp37m-manylinux2014_x86_64.whl (18.5 MB)\r\n",
      "     |████████████████████████████████| 18.5 MB 1.8 MB/s            \r\n",
      "\u001b[?25hRequirement already satisfied: tqdm>=4.27 in /opt/conda/lib/python3.7/site-packages (from implicit) (4.62.3)\r\n",
      "Requirement already satisfied: scipy>=0.16 in /opt/conda/lib/python3.7/site-packages (from implicit) (1.7.3)\r\n",
      "Requirement already satisfied: numpy in /opt/conda/lib/python3.7/site-packages (from implicit) (1.20.3)\r\n",
      "Installing collected packages: implicit\r\n",
      "  Attempting uninstall: implicit\r\n",
      "    Found existing installation: implicit 0.4.4\r\n",
      "    Uninstalling implicit-0.4.4:\r\n",
      "      Successfully uninstalled implicit-0.4.4\r\n",
      "Successfully installed implicit-0.5.2\r\n",
      "\u001b[33mWARNING: Running pip as the 'root' user can result in broken permissions and conflicting behaviour with the system package manager. It is recommended to use a virtual environment instead: https://pip.pypa.io/warnings/venv\u001b[0m\r\n",
      "Requirement already satisfied: scipy in /opt/conda/lib/python3.7/site-packages (1.7.3)\r\n",
      "Requirement already satisfied: numpy<1.23.0,>=1.16.5 in /opt/conda/lib/python3.7/site-packages (from scipy) (1.20.3)\r\n",
      "\u001b[33mWARNING: Running pip as the 'root' user can result in broken permissions and conflicting behaviour with the system package manager. It is recommended to use a virtual environment instead: https://pip.pypa.io/warnings/venv\u001b[0m\r\n"
     ]
    }
   ],
   "source": [
    "# For this approach, I will use the `implicit` library\n",
    "!pip install --upgrade implicit\n",
    "# Also, install the `scipy` module\n",
    "!pip install --upgrade scipy"
   ]
  },
  {
   "cell_type": "code",
   "execution_count": 43,
   "id": "d36056f3",
   "metadata": {
    "execution": {
     "iopub.execute_input": "2022-03-29T07:49:55.229123Z",
     "iopub.status.busy": "2022-03-29T07:49:55.228278Z",
     "iopub.status.idle": "2022-03-29T07:49:55.245001Z",
     "shell.execute_reply": "2022-03-29T07:49:55.245558Z",
     "shell.execute_reply.started": "2022-03-29T07:43:37.49026Z"
    },
    "papermill": {
     "duration": 0.125212,
     "end_time": "2022-03-29T07:49:55.245739",
     "exception": false,
     "start_time": "2022-03-29T07:49:55.120527",
     "status": "completed"
    },
    "tags": []
   },
   "outputs": [
    {
     "name": "stdout",
     "output_type": "stream",
     "text": [
      "`implicit` version: 0.5.2\n"
     ]
    }
   ],
   "source": [
    "# This notebook was tested on v0.5.2 of `implicit` package\n",
    "# Versions newer than 0.5.0 work well with GPU out-of-the-box\n",
    "# There are big improvements in terms of efficiency\n",
    "import implicit\n",
    "print(f'`implicit` version: {implicit.__version__}')\n",
    "if implicit.__version__ < '0.5.0':\n",
    "    print('Requires `implicit` 0.5.0 or newer')\n",
    "    stop_execution()"
   ]
  },
  {
   "cell_type": "code",
   "execution_count": 44,
   "id": "c8202da8",
   "metadata": {
    "execution": {
     "iopub.execute_input": "2022-03-29T07:49:55.454699Z",
     "iopub.status.busy": "2022-03-29T07:49:55.453918Z",
     "iopub.status.idle": "2022-03-29T07:49:55.456291Z",
     "shell.execute_reply": "2022-03-29T07:49:55.455879Z",
     "shell.execute_reply.started": "2022-03-29T07:43:37.522505Z"
    },
    "papermill": {
     "duration": 0.10853,
     "end_time": "2022-03-29T07:49:55.456433",
     "exception": false,
     "start_time": "2022-03-29T07:49:55.347903",
     "status": "completed"
    },
    "tags": []
   },
   "outputs": [],
   "source": [
    "from scipy.sparse import csr_matrix\n",
    "from implicit.als import AlternatingLeastSquares\n",
    "from implicit.evaluation import mean_average_precision_at_k"
   ]
  },
  {
   "cell_type": "markdown",
   "id": "292754c7",
   "metadata": {
    "papermill": {
     "duration": 0.102545,
     "end_time": "2022-03-29T07:49:55.663152",
     "exception": false,
     "start_time": "2022-03-29T07:49:55.560607",
     "status": "completed"
    },
    "tags": []
   },
   "source": [
    "## Load the data"
   ]
  },
  {
   "cell_type": "code",
   "execution_count": 45,
   "id": "a343c8c5",
   "metadata": {
    "execution": {
     "iopub.execute_input": "2022-03-29T07:49:55.873079Z",
     "iopub.status.busy": "2022-03-29T07:49:55.872474Z",
     "iopub.status.idle": "2022-03-29T07:50:39.338923Z",
     "shell.execute_reply": "2022-03-29T07:50:39.338400Z",
     "shell.execute_reply.started": "2022-03-29T07:43:37.532782Z"
    },
    "papermill": {
     "duration": 43.57344,
     "end_time": "2022-03-29T07:50:39.339064",
     "exception": false,
     "start_time": "2022-03-29T07:49:55.765624",
     "status": "completed"
    },
    "tags": []
   },
   "outputs": [],
   "source": [
    "# Load the dataframes\n",
    "articles     = cudf.DataFrame.from_pandas(csv_to_df(ARTICLES_CSV_PATH))\n",
    "customers    = cudf.DataFrame.from_pandas(csv_to_df(CUSTOMERS_CSV_PATH))\n",
    "transactions = cudf.DataFrame.from_pandas(csv_to_df(TRANSACTIONS_CSV_PATH))\n",
    "\n",
    "# Sanity check\n",
    "if any(df is None for df in [articles,\n",
    "                             customers,\n",
    "                             transactions]):\n",
    "    stop_execution()"
   ]
  },
  {
   "cell_type": "code",
   "execution_count": 46,
   "id": "04e70808",
   "metadata": {
    "execution": {
     "iopub.execute_input": "2022-03-29T07:50:39.550859Z",
     "iopub.status.busy": "2022-03-29T07:50:39.549785Z",
     "iopub.status.idle": "2022-03-29T07:50:39.576081Z",
     "shell.execute_reply": "2022-03-29T07:50:39.575657Z",
     "shell.execute_reply.started": "2022-03-29T07:44:19.506403Z"
    },
    "papermill": {
     "duration": 0.133211,
     "end_time": "2022-03-29T07:50:39.576196",
     "exception": false,
     "start_time": "2022-03-29T07:50:39.442985",
     "status": "completed"
    },
    "tags": []
   },
   "outputs": [],
   "source": [
    "# Convert `t_dat` to `cudf datetime`\n",
    "transactions['t_dat'] = cudf.to_datetime(transactions['t_dat'])"
   ]
  },
  {
   "cell_type": "code",
   "execution_count": 47,
   "id": "dc8af68a",
   "metadata": {
    "execution": {
     "iopub.execute_input": "2022-03-29T07:50:39.799311Z",
     "iopub.status.busy": "2022-03-29T07:50:39.798637Z",
     "iopub.status.idle": "2022-03-29T07:50:39.816171Z",
     "shell.execute_reply": "2022-03-29T07:50:39.815769Z",
     "shell.execute_reply.started": "2022-03-29T07:44:19.533083Z"
    },
    "papermill": {
     "duration": 0.135508,
     "end_time": "2022-03-29T07:50:39.816288",
     "exception": false,
     "start_time": "2022-03-29T07:50:39.680780",
     "status": "completed"
    },
    "tags": []
   },
   "outputs": [],
   "source": [
    "# Convert `article_ids` to `str`\n",
    "transactions = transactions.astype({'article_id': 'str'})\n",
    "articles = articles.astype({'article_id': 'str'})"
   ]
  },
  {
   "cell_type": "code",
   "execution_count": 48,
   "id": "27ab459c",
   "metadata": {
    "execution": {
     "iopub.execute_input": "2022-03-29T07:50:40.038161Z",
     "iopub.status.busy": "2022-03-29T07:50:40.037247Z",
     "iopub.status.idle": "2022-03-29T07:50:40.053876Z",
     "shell.execute_reply": "2022-03-29T07:50:40.054266Z",
     "shell.execute_reply.started": "2022-03-29T07:44:19.587709Z"
    },
    "papermill": {
     "duration": 0.130703,
     "end_time": "2022-03-29T07:50:40.054434",
     "exception": false,
     "start_time": "2022-03-29T07:50:39.923731",
     "status": "completed"
    },
    "tags": []
   },
   "outputs": [
    {
     "data": {
      "text/html": [
       "<div>\n",
       "<style scoped>\n",
       "    .dataframe tbody tr th:only-of-type {\n",
       "        vertical-align: middle;\n",
       "    }\n",
       "\n",
       "    .dataframe tbody tr th {\n",
       "        vertical-align: top;\n",
       "    }\n",
       "\n",
       "    .dataframe thead th {\n",
       "        text-align: right;\n",
       "    }\n",
       "</style>\n",
       "<table border=\"1\" class=\"dataframe\">\n",
       "  <thead>\n",
       "    <tr style=\"text-align: right;\">\n",
       "      <th></th>\n",
       "      <th>t_dat</th>\n",
       "      <th>customer_id</th>\n",
       "      <th>article_id</th>\n",
       "      <th>price</th>\n",
       "      <th>sales_channel_id</th>\n",
       "    </tr>\n",
       "  </thead>\n",
       "  <tbody>\n",
       "    <tr>\n",
       "      <th>0</th>\n",
       "      <td>2018-09-20</td>\n",
       "      <td>000058a12d5b43e67d225668fa1f8d618c13dc232df0ca...</td>\n",
       "      <td>663713001</td>\n",
       "      <td>0.050831</td>\n",
       "      <td>2</td>\n",
       "    </tr>\n",
       "    <tr>\n",
       "      <th>1</th>\n",
       "      <td>2018-09-20</td>\n",
       "      <td>000058a12d5b43e67d225668fa1f8d618c13dc232df0ca...</td>\n",
       "      <td>541518023</td>\n",
       "      <td>0.030492</td>\n",
       "      <td>2</td>\n",
       "    </tr>\n",
       "    <tr>\n",
       "      <th>2</th>\n",
       "      <td>2018-09-20</td>\n",
       "      <td>00007d2de826758b65a93dd24ce629ed66842531df6699...</td>\n",
       "      <td>505221004</td>\n",
       "      <td>0.015237</td>\n",
       "      <td>2</td>\n",
       "    </tr>\n",
       "    <tr>\n",
       "      <th>3</th>\n",
       "      <td>2018-09-20</td>\n",
       "      <td>00007d2de826758b65a93dd24ce629ed66842531df6699...</td>\n",
       "      <td>685687003</td>\n",
       "      <td>0.016932</td>\n",
       "      <td>2</td>\n",
       "    </tr>\n",
       "    <tr>\n",
       "      <th>4</th>\n",
       "      <td>2018-09-20</td>\n",
       "      <td>00007d2de826758b65a93dd24ce629ed66842531df6699...</td>\n",
       "      <td>685687004</td>\n",
       "      <td>0.016932</td>\n",
       "      <td>2</td>\n",
       "    </tr>\n",
       "  </tbody>\n",
       "</table>\n",
       "</div>"
      ],
      "text/plain": [
       "       t_dat                                        customer_id article_id  \\\n",
       "0 2018-09-20  000058a12d5b43e67d225668fa1f8d618c13dc232df0ca...  663713001   \n",
       "1 2018-09-20  000058a12d5b43e67d225668fa1f8d618c13dc232df0ca...  541518023   \n",
       "2 2018-09-20  00007d2de826758b65a93dd24ce629ed66842531df6699...  505221004   \n",
       "3 2018-09-20  00007d2de826758b65a93dd24ce629ed66842531df6699...  685687003   \n",
       "4 2018-09-20  00007d2de826758b65a93dd24ce629ed66842531df6699...  685687004   \n",
       "\n",
       "      price  sales_channel_id  \n",
       "0  0.050831                 2  \n",
       "1  0.030492                 2  \n",
       "2  0.015237                 2  \n",
       "3  0.016932                 2  \n",
       "4  0.016932                 2  "
      ]
     },
     "execution_count": 48,
     "metadata": {},
     "output_type": "execute_result"
    }
   ],
   "source": [
    "transactions.head()"
   ]
  },
  {
   "cell_type": "code",
   "execution_count": 49,
   "id": "d1e5d8dc",
   "metadata": {
    "execution": {
     "iopub.execute_input": "2022-03-29T07:50:40.270118Z",
     "iopub.status.busy": "2022-03-29T07:50:40.269499Z",
     "iopub.status.idle": "2022-03-29T07:50:40.272378Z",
     "shell.execute_reply": "2022-03-29T07:50:40.272871Z",
     "shell.execute_reply.started": "2022-03-29T07:44:19.614559Z"
    },
    "papermill": {
     "duration": 0.115617,
     "end_time": "2022-03-29T07:50:40.273054",
     "exception": false,
     "start_time": "2022-03-29T07:50:40.157437",
     "status": "completed"
    },
    "tags": []
   },
   "outputs": [
    {
     "data": {
      "text/plain": [
       "(31788324, 5)"
      ]
     },
     "execution_count": 49,
     "metadata": {},
     "output_type": "execute_result"
    }
   ],
   "source": [
    "transactions.shape"
   ]
  },
  {
   "cell_type": "markdown",
   "id": "dd463c69",
   "metadata": {
    "papermill": {
     "duration": 0.109371,
     "end_time": "2022-03-29T07:50:40.491834",
     "exception": false,
     "start_time": "2022-03-29T07:50:40.382463",
     "status": "completed"
    },
    "tags": []
   },
   "source": [
    "## Use only the last month of transactions"
   ]
  },
  {
   "cell_type": "code",
   "execution_count": 50,
   "id": "1270b2fc",
   "metadata": {
    "execution": {
     "iopub.execute_input": "2022-03-29T07:50:40.707349Z",
     "iopub.status.busy": "2022-03-29T07:50:40.706525Z",
     "iopub.status.idle": "2022-03-29T07:50:40.723658Z",
     "shell.execute_reply": "2022-03-29T07:50:40.723218Z",
     "shell.execute_reply.started": "2022-03-29T07:44:19.621718Z"
    },
    "papermill": {
     "duration": 0.129265,
     "end_time": "2022-03-29T07:50:40.723778",
     "exception": false,
     "start_time": "2022-03-29T07:50:40.594513",
     "status": "completed"
    },
    "tags": []
   },
   "outputs": [],
   "source": [
    "# Let's use only the last month of transactions for this implementation\n",
    "# `cudf` doesn't have support for timestamps substraction. This is a possible workaround\n",
    "transactions = transactions[transactions['t_dat'] >= transactions['t_dat'].max() - np.timedelta64(30, 'D')]"
   ]
  },
  {
   "cell_type": "code",
   "execution_count": 51,
   "id": "152399c8",
   "metadata": {
    "execution": {
     "iopub.execute_input": "2022-03-29T07:50:40.936268Z",
     "iopub.status.busy": "2022-03-29T07:50:40.935693Z",
     "iopub.status.idle": "2022-03-29T07:50:40.938275Z",
     "shell.execute_reply": "2022-03-29T07:50:40.938704Z",
     "shell.execute_reply.started": "2022-03-29T07:44:19.648228Z"
    },
    "papermill": {
     "duration": 0.110235,
     "end_time": "2022-03-29T07:50:40.938831",
     "exception": false,
     "start_time": "2022-03-29T07:50:40.828596",
     "status": "completed"
    },
    "tags": []
   },
   "outputs": [
    {
     "data": {
      "text/plain": [
       "(1155933, 5)"
      ]
     },
     "execution_count": 51,
     "metadata": {},
     "output_type": "execute_result"
    }
   ],
   "source": [
    "transactions.shape"
   ]
  },
  {
   "cell_type": "markdown",
   "id": "0bb68d28",
   "metadata": {
    "papermill": {
     "duration": 0.103961,
     "end_time": "2022-03-29T07:50:41.147247",
     "exception": false,
     "start_time": "2022-03-29T07:50:41.043286",
     "status": "completed"
    },
    "tags": []
   },
   "source": [
    "## Create a 1:1 mapping from current ids to some incremental ids"
   ]
  },
  {
   "cell_type": "code",
   "execution_count": 52,
   "id": "927b078f",
   "metadata": {
    "execution": {
     "iopub.execute_input": "2022-03-29T07:50:41.365626Z",
     "iopub.status.busy": "2022-03-29T07:50:41.364818Z",
     "iopub.status.idle": "2022-03-29T07:50:43.325582Z",
     "shell.execute_reply": "2022-03-29T07:50:43.324829Z",
     "shell.execute_reply.started": "2022-03-29T07:44:19.655632Z"
    },
    "papermill": {
     "duration": 2.074566,
     "end_time": "2022-03-29T07:50:43.325725",
     "exception": false,
     "start_time": "2022-03-29T07:50:41.251159",
     "status": "completed"
    },
    "tags": []
   },
   "outputs": [],
   "source": [
    "# Convert the columns `customer_id` and `article_id` in 2 lists\n",
    "users_list = customers['customer_id'].unique().to_arrow().to_pylist()\n",
    "items_list = articles['article_id'].unique().to_arrow().to_pylist()"
   ]
  },
  {
   "cell_type": "code",
   "execution_count": 53,
   "id": "e47347ac",
   "metadata": {
    "execution": {
     "iopub.execute_input": "2022-03-29T07:50:43.557233Z",
     "iopub.status.busy": "2022-03-29T07:50:43.556492Z",
     "iopub.status.idle": "2022-03-29T07:50:43.596216Z",
     "shell.execute_reply": "2022-03-29T07:50:43.595749Z",
     "shell.execute_reply.started": "2022-03-29T07:44:21.521941Z"
    },
    "papermill": {
     "duration": 0.156211,
     "end_time": "2022-03-29T07:50:43.596377",
     "exception": false,
     "start_time": "2022-03-29T07:50:43.440166",
     "status": "completed"
    },
    "tags": []
   },
   "outputs": [],
   "source": [
    "# Sanity checks\n",
    "assert len(users_list) == customers['customer_id'].nunique()\n",
    "assert len(items_list) == articles['article_id'].nunique()"
   ]
  },
  {
   "cell_type": "code",
   "execution_count": 54,
   "id": "9ffa17e7",
   "metadata": {
    "execution": {
     "iopub.execute_input": "2022-03-29T07:50:43.873509Z",
     "iopub.status.busy": "2022-03-29T07:50:43.848474Z",
     "iopub.status.idle": "2022-03-29T07:50:44.403549Z",
     "shell.execute_reply": "2022-03-29T07:50:44.403025Z",
     "shell.execute_reply.started": "2022-03-29T07:44:21.570079Z"
    },
    "papermill": {
     "duration": 0.697872,
     "end_time": "2022-03-29T07:50:44.403701",
     "exception": false,
     "start_time": "2022-03-29T07:50:43.705829",
     "status": "completed"
    },
    "tags": []
   },
   "outputs": [],
   "source": [
    "# Map each customer's id (and article's id) to an index starting from 0\n",
    "users_map = {}\n",
    "for idx, user in enumerate(users_list):\n",
    "    users_map[user] = idx\n",
    "    \n",
    "items_map = {}\n",
    "for idx, item in enumerate(items_list):\n",
    "    items_map[item] = idx"
   ]
  },
  {
   "cell_type": "code",
   "execution_count": 55,
   "id": "1b706b22",
   "metadata": {
    "execution": {
     "iopub.execute_input": "2022-03-29T07:50:44.631918Z",
     "iopub.status.busy": "2022-03-29T07:50:44.631043Z",
     "iopub.status.idle": "2022-03-29T07:50:45.242749Z",
     "shell.execute_reply": "2022-03-29T07:50:45.243738Z",
     "shell.execute_reply.started": "2022-03-29T07:44:22.175279Z"
    },
    "papermill": {
     "duration": 0.728209,
     "end_time": "2022-03-29T07:50:45.243962",
     "exception": false,
     "start_time": "2022-03-29T07:50:44.515753",
     "status": "completed"
    },
    "tags": []
   },
   "outputs": [],
   "source": [
    "# Create new columns, using the bijection generated above\n",
    "transactions['user_id'] = transactions['customer_id'].map(users_map)\n",
    "transactions['item_id'] = transactions['article_id'].map(items_map)"
   ]
  },
  {
   "cell_type": "code",
   "execution_count": 56,
   "id": "986f9e0f",
   "metadata": {
    "execution": {
     "iopub.execute_input": "2022-03-29T07:50:45.936583Z",
     "iopub.status.busy": "2022-03-29T07:50:45.935695Z",
     "iopub.status.idle": "2022-03-29T07:50:46.003237Z",
     "shell.execute_reply": "2022-03-29T07:50:46.003839Z",
     "shell.execute_reply.started": "2022-03-29T07:44:22.594437Z"
    },
    "papermill": {
     "duration": 0.489446,
     "end_time": "2022-03-29T07:50:46.004049",
     "exception": false,
     "start_time": "2022-03-29T07:50:45.514603",
     "status": "completed"
    },
    "tags": []
   },
   "outputs": [
    {
     "data": {
      "text/html": [
       "<div>\n",
       "<style scoped>\n",
       "    .dataframe tbody tr th:only-of-type {\n",
       "        vertical-align: middle;\n",
       "    }\n",
       "\n",
       "    .dataframe tbody tr th {\n",
       "        vertical-align: top;\n",
       "    }\n",
       "\n",
       "    .dataframe thead th {\n",
       "        text-align: right;\n",
       "    }\n",
       "</style>\n",
       "<table border=\"1\" class=\"dataframe\">\n",
       "  <thead>\n",
       "    <tr style=\"text-align: right;\">\n",
       "      <th></th>\n",
       "      <th>t_dat</th>\n",
       "      <th>customer_id</th>\n",
       "      <th>article_id</th>\n",
       "      <th>price</th>\n",
       "      <th>sales_channel_id</th>\n",
       "      <th>user_id</th>\n",
       "      <th>item_id</th>\n",
       "    </tr>\n",
       "  </thead>\n",
       "  <tbody>\n",
       "    <tr>\n",
       "      <th>30632391</th>\n",
       "      <td>2020-08-23</td>\n",
       "      <td>001cb0cd244c58fa35f9eb21f995b9e2f3e0c67c4e89af...</td>\n",
       "      <td>464297031</td>\n",
       "      <td>0.016932</td>\n",
       "      <td>1</td>\n",
       "      <td>619</td>\n",
       "      <td>3717</td>\n",
       "    </tr>\n",
       "  </tbody>\n",
       "</table>\n",
       "</div>"
      ],
      "text/plain": [
       "              t_dat                                        customer_id  \\\n",
       "30632391 2020-08-23  001cb0cd244c58fa35f9eb21f995b9e2f3e0c67c4e89af...   \n",
       "\n",
       "         article_id     price  sales_channel_id  user_id  item_id  \n",
       "30632391  464297031  0.016932                 1      619     3717  "
      ]
     },
     "execution_count": 56,
     "metadata": {},
     "output_type": "execute_result"
    }
   ],
   "source": [
    "transactions.head(1)"
   ]
  },
  {
   "cell_type": "code",
   "execution_count": 57,
   "id": "88a0dd0c",
   "metadata": {
    "execution": {
     "iopub.execute_input": "2022-03-29T07:50:46.331807Z",
     "iopub.status.busy": "2022-03-29T07:50:46.330997Z",
     "iopub.status.idle": "2022-03-29T07:50:46.578285Z",
     "shell.execute_reply": "2022-03-29T07:50:46.577556Z",
     "shell.execute_reply.started": "2022-03-29T07:44:22.623963Z"
    },
    "papermill": {
     "duration": 0.357957,
     "end_time": "2022-03-29T07:50:46.578443",
     "exception": false,
     "start_time": "2022-03-29T07:50:46.220486",
     "status": "completed"
    },
    "tags": []
   },
   "outputs": [],
   "source": [
    "# Sanity checks: Make sure that the 1:1 mapping is correct\n",
    "assert transactions['article_id'].nunique()  == transactions['item_id'].nunique()\n",
    "assert transactions['customer_id'].nunique() == transactions['user_id'].nunique()"
   ]
  },
  {
   "cell_type": "code",
   "execution_count": 58,
   "id": "8b461edf",
   "metadata": {
    "execution": {
     "iopub.execute_input": "2022-03-29T07:50:46.800405Z",
     "iopub.status.busy": "2022-03-29T07:50:46.799666Z",
     "iopub.status.idle": "2022-03-29T07:50:46.802367Z",
     "shell.execute_reply": "2022-03-29T07:50:46.801943Z",
     "shell.execute_reply.started": "2022-03-29T07:44:22.871617Z"
    },
    "papermill": {
     "duration": 0.114521,
     "end_time": "2022-03-29T07:50:46.802487",
     "exception": false,
     "start_time": "2022-03-29T07:50:46.687966",
     "status": "completed"
    },
    "tags": []
   },
   "outputs": [],
   "source": [
    "# The purpose of mapping each customer to a smaller (integer) index\n",
    "# is to handle indices easier in the computed CSR matrix of type (users x items)"
   ]
  },
  {
   "cell_type": "code",
   "execution_count": 59,
   "id": "eb43ca18",
   "metadata": {
    "execution": {
     "iopub.execute_input": "2022-03-29T07:50:47.025786Z",
     "iopub.status.busy": "2022-03-29T07:50:47.024776Z",
     "iopub.status.idle": "2022-03-29T07:50:47.026675Z",
     "shell.execute_reply": "2022-03-29T07:50:47.027210Z",
     "shell.execute_reply.started": "2022-03-29T07:44:22.877634Z"
    },
    "papermill": {
     "duration": 0.117067,
     "end_time": "2022-03-29T07:50:47.027369",
     "exception": false,
     "start_time": "2022-03-29T07:50:46.910302",
     "status": "completed"
    },
    "tags": []
   },
   "outputs": [],
   "source": [
    "# Compute the CSR matrix\n",
    "def users_items_csr(data):\n",
    "    \"\"\"\n",
    "    Generate a CSR matrix given the input `data` df\n",
    "    CSR matrix details: https://en.wikipedia.org/wiki/Sparse_matrix#Compressed_sparse_row_(CSR,_CRS_or_Yale_format)\n",
    "    \n",
    "    @param `data`: Dataframe with mandatory 2 columns: `user_id` and `item_id`\n",
    "    @return: Computed CSR matrix of type (users x items)\n",
    "    \n",
    "    Variable `values` is an array full of ones, because our `csr_matrix` will be a binary matrix\n",
    "    We only know if the user bought a certain article\n",
    "    We don't know what 'rating' the user has given to that \n",
    "    \"\"\"\n",
    "    \n",
    "    users = data['user_id'].values.get() # Rows\n",
    "    items = data['item_id'].values.get() # Cols\n",
    "    values = np.ones(data.shape[0])      # Values\n",
    "    return csr_matrix((values, (users, items)), shape=(len(users_list), len(items_list)))"
   ]
  },
  {
   "cell_type": "code",
   "execution_count": 60,
   "id": "e04778fa",
   "metadata": {
    "execution": {
     "iopub.execute_input": "2022-03-29T07:50:47.258721Z",
     "iopub.status.busy": "2022-03-29T07:50:47.257758Z",
     "iopub.status.idle": "2022-03-29T07:50:48.400650Z",
     "shell.execute_reply": "2022-03-29T07:50:48.400108Z",
     "shell.execute_reply.started": "2022-03-29T07:44:22.887468Z"
    },
    "papermill": {
     "duration": 1.259246,
     "end_time": "2022-03-29T07:50:48.400785",
     "exception": false,
     "start_time": "2022-03-29T07:50:47.141539",
     "status": "completed"
    },
    "tags": []
   },
   "outputs": [
    {
     "data": {
      "application/vnd.jupyter.widget-view+json": {
       "model_id": "170e66a9a72246afb8dba528ee0389fa",
       "version_major": 2,
       "version_minor": 0
      },
      "text/plain": [
       "  0%|          | 0/3 [00:00<?, ?it/s]"
      ]
     },
     "metadata": {},
     "output_type": "display_data"
    }
   ],
   "source": [
    "# Let's check if the `AlternatingLeastSquares` model works with our data format\n",
    "# We need to `fit` the model with a csr/coo matrix of type (users x items) \n",
    "als = AlternatingLeastSquares(iterations=3)\n",
    "csr_mat = users_items_csr(transactions)\n",
    "als.fit(csr_mat)"
   ]
  },
  {
   "cell_type": "code",
   "execution_count": 61,
   "id": "8f747eba",
   "metadata": {
    "execution": {
     "iopub.execute_input": "2022-03-29T07:50:48.636583Z",
     "iopub.status.busy": "2022-03-29T07:50:48.635844Z",
     "iopub.status.idle": "2022-03-29T07:50:48.638904Z",
     "shell.execute_reply": "2022-03-29T07:50:48.639367Z",
     "shell.execute_reply.started": "2022-03-29T07:44:24.064746Z"
    },
    "papermill": {
     "duration": 0.1205,
     "end_time": "2022-03-29T07:50:48.639514",
     "exception": false,
     "start_time": "2022-03-29T07:50:48.519014",
     "status": "completed"
    },
    "tags": []
   },
   "outputs": [
    {
     "data": {
      "text/plain": [
       "(1155933, 7)"
      ]
     },
     "execution_count": 61,
     "metadata": {},
     "output_type": "execute_result"
    }
   ],
   "source": [
    "# Perfect, everything went ok.\n",
    "# Now we can start to manipulate our main df\n",
    "transactions.shape"
   ]
  },
  {
   "cell_type": "markdown",
   "id": "b6fc95ea",
   "metadata": {
    "papermill": {
     "duration": 0.113933,
     "end_time": "2022-03-29T07:50:48.866740",
     "exception": false,
     "start_time": "2022-03-29T07:50:48.752807",
     "status": "completed"
    },
    "tags": []
   },
   "source": [
    "## Use the entire dataset (last month)"
   ]
  },
  {
   "cell_type": "code",
   "execution_count": 62,
   "id": "384d1916",
   "metadata": {
    "execution": {
     "iopub.execute_input": "2022-03-29T07:50:49.107821Z",
     "iopub.status.busy": "2022-03-29T07:50:49.106014Z",
     "iopub.status.idle": "2022-03-29T07:50:49.108496Z",
     "shell.execute_reply": "2022-03-29T07:50:49.108952Z",
     "shell.execute_reply.started": "2022-03-29T07:44:24.072868Z"
    },
    "papermill": {
     "duration": 0.124044,
     "end_time": "2022-03-29T07:50:49.109106",
     "exception": false,
     "start_time": "2022-03-29T07:50:48.985062",
     "status": "completed"
    },
    "tags": []
   },
   "outputs": [],
   "source": [
    "# I will use the last week as validation set and the first 3 weeks as training set \n",
    "def split_data(data, validation_days=7):\n",
    "    \"\"\"\n",
    "    Make a simple data splitting, holding the last `validation_days` for validating the model\n",
    "    \n",
    "    @param `data`: Dataframe with mandatory `t_dat` column (this will be the comparator)\n",
    "    @param `validation_days`: How many days to hold for validating the model (out of 30 days)\n",
    "    @return: 2 dataframes of type (first_day to x_day) and (x_day + 1 to last_day)\n",
    "    \"\"\"\n",
    "    \n",
    "    last_days_timestamp = data['t_dat'].max() - np.timedelta64(validation_days, 'D')\n",
    "    train = data[data['t_dat'] <  last_days_timestamp]\n",
    "    val   = data[data['t_dat'] >= last_days_timestamp]\n",
    "    \n",
    "    return train, val"
   ]
  },
  {
   "cell_type": "code",
   "execution_count": 63,
   "id": "c4cc1ff5",
   "metadata": {
    "execution": {
     "iopub.execute_input": "2022-03-29T07:50:49.348312Z",
     "iopub.status.busy": "2022-03-29T07:50:49.347333Z",
     "iopub.status.idle": "2022-03-29T07:50:49.350141Z",
     "shell.execute_reply": "2022-03-29T07:50:49.349669Z",
     "shell.execute_reply.started": "2022-03-29T07:44:24.085419Z"
    },
    "papermill": {
     "duration": 0.126568,
     "end_time": "2022-03-29T07:50:49.350270",
     "exception": false,
     "start_time": "2022-03-29T07:50:49.223702",
     "status": "completed"
    },
    "tags": []
   },
   "outputs": [],
   "source": [
    "def get_users_items_matrices(data, validation_days=7):\n",
    "    \"\"\"\n",
    "    Split the data into train and validation and compute a CSR matrix from each one of them\n",
    "    \n",
    "    @param `data`: Dataframe with mandatory `t_dat`, `user_id` and `item_id` columns\n",
    "    @param `validation_days`: How many days to hold for validating the model (out of 30 days)\n",
    "    @return: Computed train and validation CSR matrices\n",
    "    \"\"\"\n",
    "    \n",
    "    # First, let's split the data by `train` and `validations` sets\n",
    "    train_data, val_data = split_data(data, validation_days=validation_days)\n",
    "    \n",
    "    # Then compute the CSR matrices\n",
    "    train_csr = users_items_csr(train_data)\n",
    "    val_csr   = users_items_csr(val_data)\n",
    "    \n",
    "    # Return the matrices\n",
    "    return train_csr, val_csr"
   ]
  },
  {
   "cell_type": "code",
   "execution_count": 64,
   "id": "b13c42bb",
   "metadata": {
    "execution": {
     "iopub.execute_input": "2022-03-29T07:50:49.592289Z",
     "iopub.status.busy": "2022-03-29T07:50:49.591124Z",
     "iopub.status.idle": "2022-03-29T07:50:49.700514Z",
     "shell.execute_reply": "2022-03-29T07:50:49.699537Z",
     "shell.execute_reply.started": "2022-03-29T07:44:24.104439Z"
    },
    "papermill": {
     "duration": 0.231719,
     "end_time": "2022-03-29T07:50:49.700677",
     "exception": false,
     "start_time": "2022-03-29T07:50:49.468958",
     "status": "completed"
    },
    "tags": []
   },
   "outputs": [],
   "source": [
    "X_train_csr, X_val_csr = get_users_items_matrices(transactions)"
   ]
  },
  {
   "attachments": {
    "09bb7f67-eaa2-431a-91bd-9579267eefbc.png": {
     "image/png": "[encoded data removed]"
    }
   },
   "cell_type": "markdown",
   "id": "bac1977a",
   "metadata": {
    "papermill": {
     "duration": 0.119894,
     "end_time": "2022-03-29T07:50:49.938170",
     "exception": false,
     "start_time": "2022-03-29T07:50:49.818276",
     "status": "completed"
    },
    "tags": []
   },
   "source": [
    "### In order to find the users x items matrix, the following problem is solved:\n",
    "\n",
    "## ![image.png](attachment:09bb7f67-eaa2-431a-91bd-9579267eefbc.png)"
   ]
  },
  {
   "cell_type": "code",
   "execution_count": 65,
   "id": "a23338df",
   "metadata": {
    "execution": {
     "iopub.execute_input": "2022-03-29T07:50:50.184190Z",
     "iopub.status.busy": "2022-03-29T07:50:50.183183Z",
     "iopub.status.idle": "2022-03-29T07:50:50.185580Z",
     "shell.execute_reply": "2022-03-29T07:50:50.186017Z",
     "shell.execute_reply.started": "2022-03-29T07:44:24.218741Z"
    },
    "papermill": {
     "duration": 0.123866,
     "end_time": "2022-03-29T07:50:50.186178",
     "exception": false,
     "start_time": "2022-03-29T07:50:50.062312",
     "status": "completed"
    },
    "tags": []
   },
   "outputs": [],
   "source": [
    "# Some of the most important hyperparameters for the ALS model are:\n",
    "# `factors`: The number of latent factors to use for the underlying model\n",
    "# `regularization` (lambda from the formula above): Strength of regularization\n",
    "# `iterations`: The number of ALS iterations to use when fitting data"
   ]
  },
  {
   "cell_type": "code",
   "execution_count": 66,
   "id": "868382a7",
   "metadata": {
    "execution": {
     "iopub.execute_input": "2022-03-29T07:50:50.430851Z",
     "iopub.status.busy": "2022-03-29T07:50:50.428868Z",
     "iopub.status.idle": "2022-03-29T07:50:50.431599Z",
     "shell.execute_reply": "2022-03-29T07:50:50.432116Z",
     "shell.execute_reply.started": "2022-03-29T07:44:24.224005Z"
    },
    "papermill": {
     "duration": 0.12782,
     "end_time": "2022-03-29T07:50:50.432286",
     "exception": false,
     "start_time": "2022-03-29T07:50:50.304466",
     "status": "completed"
    },
    "tags": []
   },
   "outputs": [],
   "source": [
    "def validate_ALS(X_train_csr,\n",
    "                 X_val_csr,\n",
    "                 factors=64,\n",
    "                 iterations=15,\n",
    "                 regularization=0.01,\n",
    "                 show_progress=True,\n",
    "                 show_params=True):\n",
    "    \"\"\"\n",
    "    Define an AlternatingLeastSquares model with the given hyperparameters\n",
    "    Then, fit the model and validate the model, computing the MAP@K metric\n",
    "    MAP@K details:https://towardsdatascience.com/breaking-down-mean-average-precision-map-ae462f623a52\n",
    "    \n",
    "    @param `X_train_csr`: CSR matrix used for fitting the model\n",
    "    @param `X_val_csr`: CSR matrix used for validating the model\n",
    "    @param `factors`: The number of latent factors to compute\n",
    "    @param `iterations`: The number of ALS iterations to use when fitting data\n",
    "    @param `regularization`: The regularization factor to use\n",
    "    @param `show_progress`: Print or suppress the progress of fitting/validating the model\n",
    "    @param `show_params`: Print or suppress the current hyperparameters of the model\n",
    "    @return: The computed MAP@K metric\n",
    "    \"\"\"\n",
    "\n",
    "    # Define the model with the given hyperparameters\n",
    "    als = AlternatingLeastSquares(factors=factors,\n",
    "                                  iterations=iterations,\n",
    "                                  regularization=regularization,\n",
    "                                  use_gpu=True,\n",
    "                                  random_state=RANDOM_STATE)\n",
    "    \n",
    "    # In the previous versions (version < 0.5.0), ALS required a\n",
    "    # CSR/COO matrix of type (items x users) for training the model\n",
    "    if implicit.__version__ < '0.5.0':\n",
    "        X_train_csr = X_train_csr.T\n",
    "    \n",
    "    # Fit the model with the training data\n",
    "    als.fit(X_train_csr, show_progress=show_progress)\n",
    "    \n",
    "    # A common metric for validating the model is `MAP@K`\n",
    "    # We can also try the `Cosine similarity` metric\n",
    "    K = 10 # Number of items to test on\n",
    "    map_res = mean_average_precision_at_k(als,\n",
    "                                          X_train_csr,\n",
    "                                          X_val_csr,\n",
    "                                          K,\n",
    "                                          show_progress=show_progress)\n",
    "    \n",
    "    if show_params:\n",
    "        print(f'Factors: {factors}\\t |             \\\n",
    "              Iterations: {iterations}\\t |         \\\n",
    "              Regularization: {regularization}\\t | \\\n",
    "              MAP@{K}: {map_res}')\n",
    "        \n",
    "    return map_res"
   ]
  },
  {
   "cell_type": "markdown",
   "id": "ec7d1a12",
   "metadata": {
    "papermill": {
     "duration": 0.114271,
     "end_time": "2022-03-29T07:50:50.663150",
     "exception": false,
     "start_time": "2022-03-29T07:50:50.548879",
     "status": "completed"
    },
    "tags": []
   },
   "source": [
    "### Learning curves"
   ]
  },
  {
   "cell_type": "code",
   "execution_count": 67,
   "id": "0241b7b9",
   "metadata": {
    "execution": {
     "iopub.execute_input": "2022-03-29T07:50:50.903930Z",
     "iopub.status.busy": "2022-03-29T07:50:50.902106Z",
     "iopub.status.idle": "2022-03-29T07:50:50.904610Z",
     "shell.execute_reply": "2022-03-29T07:50:50.905108Z",
     "shell.execute_reply.started": "2022-03-29T07:44:24.237103Z"
    },
    "papermill": {
     "duration": 0.127258,
     "end_time": "2022-03-29T07:50:50.905268",
     "exception": false,
     "start_time": "2022-03-29T07:50:50.778010",
     "status": "completed"
    },
    "tags": []
   },
   "outputs": [],
   "source": [
    "def learning_curves(model, data, show_progress=False):\n",
    "    \"\"\"\n",
    "    Fit and validate the model using different proportions\n",
    "    of the dataset for training and validating respectively\n",
    "    \n",
    "    @param `model`: ALS model\n",
    "    @param `data`: Dataframe with mandatory `t_dat`, `user_id` and `item_id` columns\n",
    "    @param `show_progress`:\n",
    "    @return: List of MAP@K (floats) results for each values of `val_days`\n",
    "    \"\"\"\n",
    "    \n",
    "    mapk = []\n",
    "    for val_days in range(21, 6, -1):\n",
    "        X_train_csr, X_val_csr = get_users_items_matrices(data, validation_days=val_days)\n",
    "        model.fit(X_train_csr, show_progress=show_progress)\n",
    "        curr_mapk = mean_average_precision_at_k(als, X_train_csr, X_val_csr, show_progress=show_progress)\n",
    "        mapk.append(curr_mapk)\n",
    "        val_set_frac = round((val_days / 30) * 100, 2)\n",
    "        print(f'Train: {(100 - val_set_frac):.2f}% | Validation: {val_set_frac:.2f}% | MAP@K: {curr_mapk:.5f}')\n",
    "    \n",
    "    return mapk"
   ]
  },
  {
   "cell_type": "code",
   "execution_count": 68,
   "id": "320bd42c",
   "metadata": {
    "execution": {
     "iopub.execute_input": "2022-03-29T07:50:51.148834Z",
     "iopub.status.busy": "2022-03-29T07:50:51.147931Z",
     "iopub.status.idle": "2022-03-29T07:51:07.669047Z",
     "shell.execute_reply": "2022-03-29T07:51:07.670040Z",
     "shell.execute_reply.started": "2022-03-29T07:44:24.251231Z"
    },
    "papermill": {
     "duration": 16.646185,
     "end_time": "2022-03-29T07:51:07.670274",
     "exception": false,
     "start_time": "2022-03-29T07:50:51.024089",
     "status": "completed"
    },
    "tags": []
   },
   "outputs": [
    {
     "name": "stdout",
     "output_type": "stream",
     "text": [
      "Train: 30.00% | Validation: 70.00% | MAP@K: 0.00194\n",
      "Train: 33.33% | Validation: 66.67% | MAP@K: 0.00214\n",
      "Train: 36.67% | Validation: 63.33% | MAP@K: 0.00214\n",
      "Train: 40.00% | Validation: 60.00% | MAP@K: 0.00231\n",
      "Train: 43.33% | Validation: 56.67% | MAP@K: 0.00243\n",
      "Train: 46.67% | Validation: 53.33% | MAP@K: 0.00261\n",
      "Train: 50.00% | Validation: 50.00% | MAP@K: 0.00282\n",
      "Train: 53.33% | Validation: 46.67% | MAP@K: 0.00299\n",
      "Train: 56.67% | Validation: 43.33% | MAP@K: 0.00316\n",
      "Train: 60.00% | Validation: 40.00% | MAP@K: 0.00334\n",
      "Train: 63.33% | Validation: 36.67% | MAP@K: 0.00355\n",
      "Train: 66.67% | Validation: 33.33% | MAP@K: 0.00388\n",
      "Train: 70.00% | Validation: 30.00% | MAP@K: 0.00416\n",
      "Train: 73.33% | Validation: 26.67% | MAP@K: 0.00427\n",
      "Train: 76.67% | Validation: 23.33% | MAP@K: 0.00441\n"
     ]
    }
   ],
   "source": [
    "mapk = learning_curves(als, transactions)"
   ]
  },
  {
   "cell_type": "code",
   "execution_count": 69,
   "id": "e59e60c5",
   "metadata": {
    "execution": {
     "iopub.execute_input": "2022-03-29T07:51:07.922942Z",
     "iopub.status.busy": "2022-03-29T07:51:07.922030Z",
     "iopub.status.idle": "2022-03-29T07:51:08.227140Z",
     "shell.execute_reply": "2022-03-29T07:51:08.227741Z",
     "shell.execute_reply.started": "2022-03-29T07:44:40.89811Z"
    },
    "papermill": {
     "duration": 0.428766,
     "end_time": "2022-03-29T07:51:08.227908",
     "exception": false,
     "start_time": "2022-03-29T07:51:07.799142",
     "status": "completed"
    },
    "tags": []
   },
   "outputs": [
    {
     "data": {
      "text/plain": [
       "Text(0, 0.5, 'MAP@K')"
      ]
     },
     "execution_count": 69,
     "metadata": {},
     "output_type": "execute_result"
    },
    {
     "data": {
      "image/png": "[encoded data removed]",
      "text/plain": [
       "<Figure size 720x576 with 1 Axes>"
      ]
     },
     "metadata": {
      "needs_background": "light"
     },
     "output_type": "display_data"
    }
   ],
   "source": [
    "# Plot the results\n",
    "plt.figure(figsize=(10, 8))\n",
    "plt.xticks(range(7, 22))\n",
    "plt.plot(range(7, 22), mapk, \"b-\", linewidth=4)\n",
    "plt.xlabel(\"Training set days\", fontsize=14)\n",
    "plt.ylabel(\"MAP@K\", fontsize=14)"
   ]
  },
  {
   "cell_type": "code",
   "execution_count": 70,
   "id": "0322579a",
   "metadata": {
    "execution": {
     "iopub.execute_input": "2022-03-29T07:51:08.454980Z",
     "iopub.status.busy": "2022-03-29T07:51:08.454168Z",
     "iopub.status.idle": "2022-03-29T07:51:09.466085Z",
     "shell.execute_reply": "2022-03-29T07:51:09.466680Z",
     "shell.execute_reply.started": "2022-03-29T07:44:41.211928Z"
    },
    "papermill": {
     "duration": 1.1283,
     "end_time": "2022-03-29T07:51:09.466870",
     "exception": false,
     "start_time": "2022-03-29T07:51:08.338570",
     "status": "completed"
    },
    "tags": []
   },
   "outputs": [
    {
     "data": {
      "application/vnd.jupyter.widget-view+json": {
       "model_id": "df41402d232c4bd6ae1f9207f7a42b50",
       "version_major": 2,
       "version_minor": 0
      },
      "text/plain": [
       "  0%|          | 0/15 [00:00<?, ?it/s]"
      ]
     },
     "metadata": {},
     "output_type": "display_data"
    },
    {
     "data": {
      "application/vnd.jupyter.widget-view+json": {
       "model_id": "235be91aa6a14c8682a0ec75768f2823",
       "version_major": 2,
       "version_minor": 0
      },
      "text/plain": [
       "  0%|          | 0/75481 [00:00<?, ?it/s]"
      ]
     },
     "metadata": {},
     "output_type": "display_data"
    },
    {
     "name": "stdout",
     "output_type": "stream",
     "text": [
      "Factors: 64\t |                           Iterations: 15\t |                       Regularization: 0.01\t |               MAP@10: 0.0044062961150783874\n",
      "CPU times: user 989 ms, sys: 28 ms, total: 1.02 s\n",
      "Wall time: 1.01 s\n"
     ]
    }
   ],
   "source": [
    "%%time\n",
    "map_res = validate_ALS(X_train_csr, X_val_csr)"
   ]
  },
  {
   "cell_type": "markdown",
   "id": "fd42c8b0",
   "metadata": {
    "papermill": {
     "duration": 0.123401,
     "end_time": "2022-03-29T07:51:09.712120",
     "exception": false,
     "start_time": "2022-03-29T07:51:09.588719",
     "status": "completed"
    },
    "tags": []
   },
   "source": [
    "## Tuning hyperparameters"
   ]
  },
  {
   "cell_type": "code",
   "execution_count": 71,
   "id": "39e6d5ba",
   "metadata": {
    "execution": {
     "iopub.execute_input": "2022-03-29T07:51:09.951404Z",
     "iopub.status.busy": "2022-03-29T07:51:09.947932Z",
     "iopub.status.idle": "2022-03-29T07:51:09.953720Z",
     "shell.execute_reply": "2022-03-29T07:51:09.953245Z",
     "shell.execute_reply.started": "2022-03-29T07:44:42.221446Z"
    },
    "papermill": {
     "duration": 0.122102,
     "end_time": "2022-03-29T07:51:09.953835",
     "exception": false,
     "start_time": "2022-03-29T07:51:09.831733",
     "status": "completed"
    },
    "tags": []
   },
   "outputs": [],
   "source": [
    "# I will use this class from `sklearn` to generate a `params_search_space`\n",
    "# used for computing a manual grid search\n",
    "from sklearn.model_selection import ParameterGrid\n",
    "search_space = {\n",
    "    'factors': [50, 75, 100, 125, 150, 175, 225, 250],\n",
    "    'iterations': [5, 10, 15, 20],\n",
    "    'regularization': [0.005, 0.01, 0.05]\n",
    "}\n",
    "param_grid = list(ParameterGrid(search_space))"
   ]
  },
  {
   "cell_type": "code",
   "execution_count": 72,
   "id": "a3abab4d",
   "metadata": {
    "execution": {
     "iopub.execute_input": "2022-03-29T07:51:10.183082Z",
     "iopub.status.busy": "2022-03-29T07:51:10.182345Z",
     "iopub.status.idle": "2022-03-29T07:51:10.185093Z",
     "shell.execute_reply": "2022-03-29T07:51:10.185512Z",
     "shell.execute_reply.started": "2022-03-29T07:44:42.229939Z"
    },
    "papermill": {
     "duration": 0.119295,
     "end_time": "2022-03-29T07:51:10.185642",
     "exception": false,
     "start_time": "2022-03-29T07:51:10.066347",
     "status": "completed"
    },
    "tags": []
   },
   "outputs": [
    {
     "data": {
      "text/plain": [
       "96"
      ]
     },
     "execution_count": 72,
     "metadata": {},
     "output_type": "execute_result"
    }
   ],
   "source": [
    "# len(param_grid) = len(factors) * len(iterations) * len(regularization)\n",
    "len(param_grid)"
   ]
  },
  {
   "cell_type": "code",
   "execution_count": 73,
   "id": "5fdd5841",
   "metadata": {
    "execution": {
     "iopub.execute_input": "2022-03-29T07:51:10.419451Z",
     "iopub.status.busy": "2022-03-29T07:51:10.418831Z",
     "iopub.status.idle": "2022-03-29T07:51:10.421592Z",
     "shell.execute_reply": "2022-03-29T07:51:10.421994Z",
     "shell.execute_reply.started": "2022-03-29T07:44:42.24127Z"
    },
    "papermill": {
     "duration": 0.12362,
     "end_time": "2022-03-29T07:51:10.422123",
     "exception": false,
     "start_time": "2022-03-29T07:51:10.298503",
     "status": "completed"
    },
    "tags": []
   },
   "outputs": [
    {
     "data": {
      "text/plain": [
       "{'factors': 50, 'iterations': 5, 'regularization': 0.005}"
      ]
     },
     "execution_count": 73,
     "metadata": {},
     "output_type": "execute_result"
    }
   ],
   "source": [
    "param_grid[0]"
   ]
  },
  {
   "cell_type": "code",
   "execution_count": 74,
   "id": "8c30b710",
   "metadata": {
    "execution": {
     "iopub.execute_input": "2022-03-29T07:51:10.652800Z",
     "iopub.status.busy": "2022-03-29T07:51:10.651212Z",
     "iopub.status.idle": "2022-03-29T07:51:10.655084Z",
     "shell.execute_reply": "2022-03-29T07:51:10.655886Z",
     "shell.execute_reply.started": "2022-03-29T07:44:42.253933Z"
    },
    "papermill": {
     "duration": 0.121246,
     "end_time": "2022-03-29T07:51:10.656020",
     "exception": false,
     "start_time": "2022-03-29T07:51:10.534774",
     "status": "completed"
    },
    "tags": []
   },
   "outputs": [
    {
     "data": {
      "text/plain": [
       "{'factors': 250, 'iterations': 20, 'regularization': 0.05}"
      ]
     },
     "execution_count": 74,
     "metadata": {},
     "output_type": "execute_result"
    }
   ],
   "source": [
    "param_grid[len(param_grid) - 1]"
   ]
  },
  {
   "cell_type": "code",
   "execution_count": 75,
   "id": "b3fba1df",
   "metadata": {
    "execution": {
     "iopub.execute_input": "2022-03-29T07:51:10.889737Z",
     "iopub.status.busy": "2022-03-29T07:51:10.889084Z",
     "iopub.status.idle": "2022-03-29T07:51:10.892114Z",
     "shell.execute_reply": "2022-03-29T07:51:10.892535Z",
     "shell.execute_reply.started": "2022-03-29T07:44:42.26408Z"
    },
    "papermill": {
     "duration": 0.124532,
     "end_time": "2022-03-29T07:51:10.892667",
     "exception": false,
     "start_time": "2022-03-29T07:51:10.768135",
     "status": "completed"
    },
    "tags": []
   },
   "outputs": [
    {
     "name": "stdout",
     "output_type": "stream",
     "text": [
      "CPU times: user 12 µs, sys: 2 µs, total: 14 µs\n",
      "Wall time: 17.6 µs\n"
     ]
    }
   ],
   "source": [
    "%%time\n",
    "# Perfect, now we can find the best hyperparameters for our ALS model\n",
    "# I will not run this in the final version of the notebook, because it takes quite a while\n",
    "\n",
    "curr_map = -1\n",
    "best_map = -1\n",
    "best_params = {}\n",
    "for params in param_grid:\n",
    "    # Compute the current MAP value\n",
    "#     curr_map = validate_ALS(X_train_csr,\n",
    "#                             X_val_csr,\n",
    "#                             factors=params['factors'],\n",
    "#                             iterations=params['iterations'],\n",
    "#                             regularization=params['regularization'])\n",
    "    \n",
    "    # Update `best_*` if found better score\n",
    "    if curr_map > best_map:\n",
    "        best_map    = curr_map\n",
    "        best_params = params \n",
    "        print(f'Best score until now: {best_map} | Updating: {best_params}')"
   ]
  },
  {
   "cell_type": "code",
   "execution_count": 76,
   "id": "76a6c735",
   "metadata": {
    "execution": {
     "iopub.execute_input": "2022-03-29T07:51:11.126948Z",
     "iopub.status.busy": "2022-03-29T07:51:11.125912Z",
     "iopub.status.idle": "2022-03-29T07:51:13.117360Z",
     "shell.execute_reply": "2022-03-29T07:51:13.116918Z",
     "shell.execute_reply.started": "2022-03-29T07:44:42.275409Z"
    },
    "papermill": {
     "duration": 2.111107,
     "end_time": "2022-03-29T07:51:13.117487",
     "exception": false,
     "start_time": "2022-03-29T07:51:11.006380",
     "status": "completed"
    },
    "tags": []
   },
   "outputs": [
    {
     "data": {
      "application/vnd.jupyter.widget-view+json": {
       "model_id": "61de3e7eb587409191f873f92e6d98fc",
       "version_major": 2,
       "version_minor": 0
      },
      "text/plain": [
       "  0%|          | 0/5 [00:00<?, ?it/s]"
      ]
     },
     "metadata": {},
     "output_type": "display_data"
    }
   ],
   "source": [
    "# After doing a little research, I've found that a good set of hyperparameters\n",
    "# for this model & dataset are: {'factors': 300, 'iterations': 5, 'regularization': 0.01}\n",
    "best_params = {\n",
    "    'factors': 300,\n",
    "    'iterations': 5,\n",
    "    'regularization': 0.01\n",
    "}\n",
    "\n",
    "# We can train the model with those parameters\n",
    "best_model = AlternatingLeastSquares(factors=best_params['factors'],\n",
    "                                     iterations=best_params['iterations'],\n",
    "                                     regularization=best_params['regularization'],\n",
    "                                     use_gpu=True,\n",
    "                                     random_state=RANDOM_STATE)\n",
    "    \n",
    "# Now, we can train the model on the entire training data (last month of transactions)\n",
    "X_train_full_csr = users_items_csr(transactions)\n",
    "best_model.fit(X_train_full_csr)"
   ]
  },
  {
   "cell_type": "markdown",
   "id": "ecb37c6f",
   "metadata": {
    "papermill": {
     "duration": 0.115483,
     "end_time": "2022-03-29T07:51:13.349292",
     "exception": false,
     "start_time": "2022-03-29T07:51:13.233809",
     "status": "completed"
    },
    "tags": []
   },
   "source": [
    "## Generate submission file"
   ]
  },
  {
   "cell_type": "code",
   "execution_count": 77,
   "id": "2ad1dd67",
   "metadata": {
    "execution": {
     "iopub.execute_input": "2022-03-29T07:51:13.587971Z",
     "iopub.status.busy": "2022-03-29T07:51:13.582230Z",
     "iopub.status.idle": "2022-03-29T07:51:13.590262Z",
     "shell.execute_reply": "2022-03-29T07:51:13.589870Z",
     "shell.execute_reply.started": "2022-03-29T07:44:44.268273Z"
    },
    "papermill": {
     "duration": 0.126468,
     "end_time": "2022-03-29T07:51:13.590401",
     "exception": false,
     "start_time": "2022-03-29T07:51:13.463933",
     "status": "completed"
    },
    "tags": []
   },
   "outputs": [],
   "source": [
    "# This version of code works well if the `implicit` package is v0.5.0 or greater\n",
    "# It's much much faster when passing an array of user_ids instead of a single user_id,\n",
    "# because it allows multi-thread processing: https://github.com/benfred/implicit/pull/520\n",
    "def recommend(model, csr_train, batch_size=1000):\n",
    "    \"\"\"\n",
    "    Recommend items for all customers and generate the submission df\n",
    "    \n",
    "    @param `model`: Fitted ALS model used for recommendations\n",
    "    @param `csr_train`: Matrix used for training the model\n",
    "    @param `batch_size`: Size of each batch used for predictions\n",
    "    \"\"\"\n",
    "    \n",
    "    # List of tuples of type (customer_id, [recommended_article_ids])\n",
    "    predictions = []\n",
    "    \n",
    "    # List starting from 0 to len(users_list) with step 1\n",
    "    list_ids = np.arange(len(users_list))\n",
    "\n",
    "    # For each batch\n",
    "    for idx in range(0, len(list_ids), batch_size):\n",
    "        # Select the current batch of users\n",
    "        batch = list_ids[idx : (idx + batch_size)]\n",
    "\n",
    "        # Recommend to those specific users in the current batch\n",
    "        ids, scores = model.recommend(batch, csr_train[batch])\n",
    "        \n",
    "        # For each user in the batch\n",
    "        for curr_user_idx, user_id in enumerate(batch):\n",
    "            # Convert from `user_id` to the original `customer_id` format,\n",
    "            # using the 1:1 mapping created earlier\n",
    "            customer_id = users_list[user_id]\n",
    "            \n",
    "            # Get the recommended items for this specific user\n",
    "            user_items = ids[curr_user_idx]\n",
    "            \n",
    "            # Convert from `item_id` to the original `article_id` format,\n",
    "            # creating a list of `article_ids`\n",
    "            article_ids = [items_list[item_id] for item_id in user_items]\n",
    "            \n",
    "            # Append the tuple (user, recommended_items)\n",
    "            predictions.append((customer_id, '0' + ' '.join(article_ids)))\n",
    "\n",
    "    # Generate the pd df\n",
    "    return pd.DataFrame(predictions, columns=['customer_id', 'prediction'])"
   ]
  },
  {
   "cell_type": "code",
   "execution_count": 78,
   "id": "27ff8b70",
   "metadata": {
    "execution": {
     "iopub.execute_input": "2022-03-29T07:51:13.824107Z",
     "iopub.status.busy": "2022-03-29T07:51:13.823304Z",
     "iopub.status.idle": "2022-03-29T07:51:35.312686Z",
     "shell.execute_reply": "2022-03-29T07:51:35.313371Z",
     "shell.execute_reply.started": "2022-03-29T07:44:44.280088Z"
    },
    "papermill": {
     "duration": 21.608975,
     "end_time": "2022-03-29T07:51:35.313599",
     "exception": false,
     "start_time": "2022-03-29T07:51:13.704624",
     "status": "completed"
    },
    "tags": []
   },
   "outputs": [
    {
     "name": "stdout",
     "output_type": "stream",
     "text": [
      "CPU times: user 20.9 s, sys: 177 ms, total: 21.1 s\n",
      "Wall time: 21.5 s\n"
     ]
    }
   ],
   "source": [
    "%%time\n",
    "pred_df = recommend(best_model, X_train_full_csr)"
   ]
  },
  {
   "cell_type": "code",
   "execution_count": 79,
   "id": "6148a97b",
   "metadata": {
    "execution": {
     "iopub.execute_input": "2022-03-29T07:51:35.555888Z",
     "iopub.status.busy": "2022-03-29T07:51:35.555138Z",
     "iopub.status.idle": "2022-03-29T07:51:45.199672Z",
     "shell.execute_reply": "2022-03-29T07:51:45.198756Z",
     "shell.execute_reply.started": "2022-03-29T07:45:05.515815Z"
    },
    "papermill": {
     "duration": 9.766465,
     "end_time": "2022-03-29T07:51:45.199817",
     "exception": false,
     "start_time": "2022-03-29T07:51:35.433352",
     "status": "completed"
    },
    "tags": []
   },
   "outputs": [],
   "source": [
    "pred_df.to_csv('submission_alg2.csv', index=False)"
   ]
  }
 ],
 "metadata": {
  "kernelspec": {
   "display_name": "Python 3",
   "language": "python",
   "name": "python3"
  },
  "language_info": {
   "codemirror_mode": {
    "name": "ipython",
    "version": 3
   },
   "file_extension": ".py",
   "mimetype": "text/x-python",
   "name": "python",
   "nbconvert_exporter": "python",
   "pygments_lexer": "ipython3",
   "version": "3.7.12"
  },
  "papermill": {
   "default_parameters": {},
   "duration": 250.883442,
   "end_time": "2022-03-29T07:51:48.843266",
   "environment_variables": {},
   "exception": null,
   "input_path": "__notebook__.ipynb",
   "output_path": "__notebook__.ipynb",
   "parameters": {},
   "start_time": "2022-03-29T07:47:37.959824",
   "version": "2.3.3"
  },
  "widgets": {
   "application/vnd.jupyter.widget-state+json": {
    "state": {
     "0decae20d85d48119a2fdedd013aa3e3": {
      "model_module": "@jupyter-widgets/base",
      "model_module_version": "1.2.0",
      "model_name": "LayoutModel",
      "state": {
       "_model_module": "@jupyter-widgets/base",
       "_model_module_version": "1.2.0",
       "_model_name": "LayoutModel",
       "_view_count": null,
       "_view_module": "@jupyter-widgets/base",
       "_view_module_version": "1.2.0",
       "_view_name": "LayoutView",
       "align_content": null,
       "align_items": null,
       "align_self": null,
       "border": null,
       "bottom": null,
       "display": null,
       "flex": null,
       "flex_flow": null,
       "grid_area": null,
       "grid_auto_columns": null,
       "grid_auto_flow": null,
       "grid_auto_rows": null,
       "grid_column": null,
       "grid_gap": null,
       "grid_row": null,
       "grid_template_areas": null,
       "grid_template_columns": null,
       "grid_template_rows": null,
       "height": null,
       "justify_content": null,
       "justify_items": null,
       "left": null,
       "margin": null,
       "max_height": null,
       "max_width": null,
       "min_height": null,
       "min_width": null,
       "object_fit": null,
       "object_position": null,
       "order": null,
       "overflow": null,
       "overflow_x": null,
       "overflow_y": null,
       "padding": null,
       "right": null,
       "top": null,
       "visibility": null,
       "width": null
      }
     },
     "14d8df621eb54f11a9440088808a2e28": {
      "model_module": "@jupyter-widgets/controls",
      "model_module_version": "1.5.0",
      "model_name": "HTMLModel",
      "state": {
       "_dom_classes": [],
       "_model_module": "@jupyter-widgets/controls",
       "_model_module_version": "1.5.0",
       "_model_name": "HTMLModel",
       "_view_count": null,
       "_view_module": "@jupyter-widgets/controls",
       "_view_module_version": "1.5.0",
       "_view_name": "HTMLView",
       "description": "",
       "description_tooltip": null,
       "layout": "IPY_MODEL_ccea3e71e1484e41be362182b3d7f6a8",
       "placeholder": "​",
       "style": "IPY_MODEL_6199e265c9e9442d9ca29caba68d4313",
       "value": "100%"
      }
     },
     "168c0afa433e40aea3a3ff1c3a1386c6": {
      "model_module": "@jupyter-widgets/base",
      "model_module_version": "1.2.0",
      "model_name": "LayoutModel",
      "state": {
       "_model_module": "@jupyter-widgets/base",
       "_model_module_version": "1.2.0",
       "_model_name": "LayoutModel",
       "_view_count": null,
       "_view_module": "@jupyter-widgets/base",
       "_view_module_version": "1.2.0",
       "_view_name": "LayoutView",
       "align_content": null,
       "align_items": null,
       "align_self": null,
       "border": null,
       "bottom": null,
       "display": null,
       "flex": null,
       "flex_flow": null,
       "grid_area": null,
       "grid_auto_columns": null,
       "grid_auto_flow": null,
       "grid_auto_rows": null,
       "grid_column": null,
       "grid_gap": null,
       "grid_row": null,
       "grid_template_areas": null,
       "grid_template_columns": null,
       "grid_template_rows": null,
       "height": null,
       "justify_content": null,
       "justify_items": null,
       "left": null,
       "margin": null,
       "max_height": null,
       "max_width": null,
       "min_height": null,
       "min_width": null,
       "object_fit": null,
       "object_position": null,
       "order": null,
       "overflow": null,
       "overflow_x": null,
       "overflow_y": null,
       "padding": null,
       "right": null,
       "top": null,
       "visibility": null,
       "width": null
      }
     },
     "170e66a9a72246afb8dba528ee0389fa": {
      "model_module": "@jupyter-widgets/controls",
      "model_module_version": "1.5.0",
      "model_name": "HBoxModel",
      "state": {
       "_dom_classes": [],
       "_model_module": "@jupyter-widgets/controls",
       "_model_module_version": "1.5.0",
       "_model_name": "HBoxModel",
       "_view_count": null,
       "_view_module": "@jupyter-widgets/controls",
       "_view_module_version": "1.5.0",
       "_view_name": "HBoxView",
       "box_style": "",
       "children": [
        "IPY_MODEL_b33d45f5aa1b4933b78c808331781bfc",
        "IPY_MODEL_1847be94911f4ac7b137f421b65b5bed",
        "IPY_MODEL_eab3db059d4342228809690e02102823"
       ],
       "layout": "IPY_MODEL_370f4069ad2946e38e5220f26aeccf5c"
      }
     },
     "1847be94911f4ac7b137f421b65b5bed": {
      "model_module": "@jupyter-widgets/controls",
      "model_module_version": "1.5.0",
      "model_name": "FloatProgressModel",
      "state": {
       "_dom_classes": [],
       "_model_module": "@jupyter-widgets/controls",
       "_model_module_version": "1.5.0",
       "_model_name": "FloatProgressModel",
       "_view_count": null,
       "_view_module": "@jupyter-widgets/controls",
       "_view_module_version": "1.5.0",
       "_view_name": "ProgressView",
       "bar_style": "success",
       "description": "",
       "description_tooltip": null,
       "layout": "IPY_MODEL_989dc66a58524fe385506ce42d6267c8",
       "max": 3.0,
       "min": 0.0,
       "orientation": "horizontal",
       "style": "IPY_MODEL_e3eceef4bb3245aab474133454d55a93",
       "value": 3.0
      }
     },
     "1d94f4cff3584ae0921caef886bcf6de": {
      "model_module": "@jupyter-widgets/controls",
      "model_module_version": "1.5.0",
      "model_name": "HTMLModel",
      "state": {
       "_dom_classes": [],
       "_model_module": "@jupyter-widgets/controls",
       "_model_module_version": "1.5.0",
       "_model_name": "HTMLModel",
       "_view_count": null,
       "_view_module": "@jupyter-widgets/controls",
       "_view_module_version": "1.5.0",
       "_view_name": "HTMLView",
       "description": "",
       "description_tooltip": null,
       "layout": "IPY_MODEL_4d20d7854f584d0ab8b1bd5efe757ec0",
       "placeholder": "​",
       "style": "IPY_MODEL_76d650e23b534c52a5b45a5a1ef28dc1",
       "value": "100%"
      }
     },
     "2227ba57d21045cbaf61c795835ac3c6": {
      "model_module": "@jupyter-widgets/controls",
      "model_module_version": "1.5.0",
      "model_name": "DescriptionStyleModel",
      "state": {
       "_model_module": "@jupyter-widgets/controls",
       "_model_module_version": "1.5.0",
       "_model_name": "DescriptionStyleModel",
       "_view_count": null,
       "_view_module": "@jupyter-widgets/base",
       "_view_module_version": "1.2.0",
       "_view_name": "StyleView",
       "description_width": ""
      }
     },
     "235be91aa6a14c8682a0ec75768f2823": {
      "model_module": "@jupyter-widgets/controls",
      "model_module_version": "1.5.0",
      "model_name": "HBoxModel",
      "state": {
       "_dom_classes": [],
       "_model_module": "@jupyter-widgets/controls",
       "_model_module_version": "1.5.0",
       "_model_name": "HBoxModel",
       "_view_count": null,
       "_view_module": "@jupyter-widgets/controls",
       "_view_module_version": "1.5.0",
       "_view_name": "HBoxView",
       "box_style": "",
       "children": [
        "IPY_MODEL_14d8df621eb54f11a9440088808a2e28",
        "IPY_MODEL_7f41eec3960e4e4f9b82f12b8da201fc",
        "IPY_MODEL_cd2c030942d34ee5a330811dfcce679b"
       ],
       "layout": "IPY_MODEL_2c52c457bb7444fcb3f3111e5fa7b9c6"
      }
     },
     "2c52c457bb7444fcb3f3111e5fa7b9c6": {
      "model_module": "@jupyter-widgets/base",
      "model_module_version": "1.2.0",
      "model_name": "LayoutModel",
      "state": {
       "_model_module": "@jupyter-widgets/base",
       "_model_module_version": "1.2.0",
       "_model_name": "LayoutModel",
       "_view_count": null,
       "_view_module": "@jupyter-widgets/base",
       "_view_module_version": "1.2.0",
       "_view_name": "LayoutView",
       "align_content": null,
       "align_items": null,
       "align_self": null,
       "border": null,
       "bottom": null,
       "display": null,
       "flex": null,
       "flex_flow": null,
       "grid_area": null,
       "grid_auto_columns": null,
       "grid_auto_flow": null,
       "grid_auto_rows": null,
       "grid_column": null,
       "grid_gap": null,
       "grid_row": null,
       "grid_template_areas": null,
       "grid_template_columns": null,
       "grid_template_rows": null,
       "height": null,
       "justify_content": null,
       "justify_items": null,
       "left": null,
       "margin": null,
       "max_height": null,
       "max_width": null,
       "min_height": null,
       "min_width": null,
       "object_fit": null,
       "object_position": null,
       "order": null,
       "overflow": null,
       "overflow_x": null,
       "overflow_y": null,
       "padding": null,
       "right": null,
       "top": null,
       "visibility": null,
       "width": null
      }
     },
     "370f4069ad2946e38e5220f26aeccf5c": {
      "model_module": "@jupyter-widgets/base",
      "model_module_version": "1.2.0",
      "model_name": "LayoutModel",
      "state": {
       "_model_module": "@jupyter-widgets/base",
       "_model_module_version": "1.2.0",
       "_model_name": "LayoutModel",
       "_view_count": null,
       "_view_module": "@jupyter-widgets/base",
       "_view_module_version": "1.2.0",
       "_view_name": "LayoutView",
       "align_content": null,
       "align_items": null,
       "align_self": null,
       "border": null,
       "bottom": null,
       "display": null,
       "flex": null,
       "flex_flow": null,
       "grid_area": null,
       "grid_auto_columns": null,
       "grid_auto_flow": null,
       "grid_auto_rows": null,
       "grid_column": null,
       "grid_gap": null,
       "grid_row": null,
       "grid_template_areas": null,
       "grid_template_columns": null,
       "grid_template_rows": null,
       "height": null,
       "justify_content": null,
       "justify_items": null,
       "left": null,
       "margin": null,
       "max_height": null,
       "max_width": null,
       "min_height": null,
       "min_width": null,
       "object_fit": null,
       "object_position": null,
       "order": null,
       "overflow": null,
       "overflow_x": null,
       "overflow_y": null,
       "padding": null,
       "right": null,
       "top": null,
       "visibility": null,
       "width": null
      }
     },
     "37a5ccb40a414bb495721a66fc8acf0e": {
      "model_module": "@jupyter-widgets/base",
      "model_module_version": "1.2.0",
      "model_name": "LayoutModel",
      "state": {
       "_model_module": "@jupyter-widgets/base",
       "_model_module_version": "1.2.0",
       "_model_name": "LayoutModel",
       "_view_count": null,
       "_view_module": "@jupyter-widgets/base",
       "_view_module_version": "1.2.0",
       "_view_name": "LayoutView",
       "align_content": null,
       "align_items": null,
       "align_self": null,
       "border": null,
       "bottom": null,
       "display": null,
       "flex": null,
       "flex_flow": null,
       "grid_area": null,
       "grid_auto_columns": null,
       "grid_auto_flow": null,
       "grid_auto_rows": null,
       "grid_column": null,
       "grid_gap": null,
       "grid_row": null,
       "grid_template_areas": null,
       "grid_template_columns": null,
       "grid_template_rows": null,
       "height": null,
       "justify_content": null,
       "justify_items": null,
       "left": null,
       "margin": null,
       "max_height": null,
       "max_width": null,
       "min_height": null,
       "min_width": null,
       "object_fit": null,
       "object_position": null,
       "order": null,
       "overflow": null,
       "overflow_x": null,
       "overflow_y": null,
       "padding": null,
       "right": null,
       "top": null,
       "visibility": null,
       "width": null
      }
     },
     "3a0ea4c2d2f34b72857f583957b29a2a": {
      "model_module": "@jupyter-widgets/base",
      "model_module_version": "1.2.0",
      "model_name": "LayoutModel",
      "state": {
       "_model_module": "@jupyter-widgets/base",
       "_model_module_version": "1.2.0",
       "_model_name": "LayoutModel",
       "_view_count": null,
       "_view_module": "@jupyter-widgets/base",
       "_view_module_version": "1.2.0",
       "_view_name": "LayoutView",
       "align_content": null,
       "align_items": null,
       "align_self": null,
       "border": null,
       "bottom": null,
       "display": null,
       "flex": null,
       "flex_flow": null,
       "grid_area": null,
       "grid_auto_columns": null,
       "grid_auto_flow": null,
       "grid_auto_rows": null,
       "grid_column": null,
       "grid_gap": null,
       "grid_row": null,
       "grid_template_areas": null,
       "grid_template_columns": null,
       "grid_template_rows": null,
       "height": null,
       "justify_content": null,
       "justify_items": null,
       "left": null,
       "margin": null,
       "max_height": null,
       "max_width": null,
       "min_height": null,
       "min_width": null,
       "object_fit": null,
       "object_position": null,
       "order": null,
       "overflow": null,
       "overflow_x": null,
       "overflow_y": null,
       "padding": null,
       "right": null,
       "top": null,
       "visibility": null,
       "width": null
      }
     },
     "3a3ccdca90074d42a0904bb8c1a54e3c": {
      "model_module": "@jupyter-widgets/controls",
      "model_module_version": "1.5.0",
      "model_name": "HTMLModel",
      "state": {
       "_dom_classes": [],
       "_model_module": "@jupyter-widgets/controls",
       "_model_module_version": "1.5.0",
       "_model_name": "HTMLModel",
       "_view_count": null,
       "_view_module": "@jupyter-widgets/controls",
       "_view_module_version": "1.5.0",
       "_view_name": "HTMLView",
       "description": "",
       "description_tooltip": null,
       "layout": "IPY_MODEL_37a5ccb40a414bb495721a66fc8acf0e",
       "placeholder": "​",
       "style": "IPY_MODEL_edacca7a6f14481a8530de336e702000",
       "value": "100%"
      }
     },
     "444215a2d92d42008790be1d50249c90": {
      "model_module": "@jupyter-widgets/base",
      "model_module_version": "1.2.0",
      "model_name": "LayoutModel",
      "state": {
       "_model_module": "@jupyter-widgets/base",
       "_model_module_version": "1.2.0",
       "_model_name": "LayoutModel",
       "_view_count": null,
       "_view_module": "@jupyter-widgets/base",
       "_view_module_version": "1.2.0",
       "_view_name": "LayoutView",
       "align_content": null,
       "align_items": null,
       "align_self": null,
       "border": null,
       "bottom": null,
       "display": null,
       "flex": null,
       "flex_flow": null,
       "grid_area": null,
       "grid_auto_columns": null,
       "grid_auto_flow": null,
       "grid_auto_rows": null,
       "grid_column": null,
       "grid_gap": null,
       "grid_row": null,
       "grid_template_areas": null,
       "grid_template_columns": null,
       "grid_template_rows": null,
       "height": null,
       "justify_content": null,
       "justify_items": null,
       "left": null,
       "margin": null,
       "max_height": null,
       "max_width": null,
       "min_height": null,
       "min_width": null,
       "object_fit": null,
       "object_position": null,
       "order": null,
       "overflow": null,
       "overflow_x": null,
       "overflow_y": null,
       "padding": null,
       "right": null,
       "top": null,
       "visibility": null,
       "width": null
      }
     },
     "4d1b9e4cdb2e44d5b408132b71758fc2": {
      "model_module": "@jupyter-widgets/controls",
      "model_module_version": "1.5.0",
      "model_name": "DescriptionStyleModel",
      "state": {
       "_model_module": "@jupyter-widgets/controls",
       "_model_module_version": "1.5.0",
       "_model_name": "DescriptionStyleModel",
       "_view_count": null,
       "_view_module": "@jupyter-widgets/base",
       "_view_module_version": "1.2.0",
       "_view_name": "StyleView",
       "description_width": ""
      }
     },
     "4d20d7854f584d0ab8b1bd5efe757ec0": {
      "model_module": "@jupyter-widgets/base",
      "model_module_version": "1.2.0",
      "model_name": "LayoutModel",
      "state": {
       "_model_module": "@jupyter-widgets/base",
       "_model_module_version": "1.2.0",
       "_model_name": "LayoutModel",
       "_view_count": null,
       "_view_module": "@jupyter-widgets/base",
       "_view_module_version": "1.2.0",
       "_view_name": "LayoutView",
       "align_content": null,
       "align_items": null,
       "align_self": null,
       "border": null,
       "bottom": null,
       "display": null,
       "flex": null,
       "flex_flow": null,
       "grid_area": null,
       "grid_auto_columns": null,
       "grid_auto_flow": null,
       "grid_auto_rows": null,
       "grid_column": null,
       "grid_gap": null,
       "grid_row": null,
       "grid_template_areas": null,
       "grid_template_columns": null,
       "grid_template_rows": null,
       "height": null,
       "justify_content": null,
       "justify_items": null,
       "left": null,
       "margin": null,
       "max_height": null,
       "max_width": null,
       "min_height": null,
       "min_width": null,
       "object_fit": null,
       "object_position": null,
       "order": null,
       "overflow": null,
       "overflow_x": null,
       "overflow_y": null,
       "padding": null,
       "right": null,
       "top": null,
       "visibility": null,
       "width": null
      }
     },
     "4ded8af87c574100afdca61988420bdc": {
      "model_module": "@jupyter-widgets/controls",
      "model_module_version": "1.5.0",
      "model_name": "ProgressStyleModel",
      "state": {
       "_model_module": "@jupyter-widgets/controls",
       "_model_module_version": "1.5.0",
       "_model_name": "ProgressStyleModel",
       "_view_count": null,
       "_view_module": "@jupyter-widgets/base",
       "_view_module_version": "1.2.0",
       "_view_name": "StyleView",
       "bar_color": null,
       "description_width": ""
      }
     },
     "606649f55e92484e841d97f6445e0cf1": {
      "model_module": "@jupyter-widgets/controls",
      "model_module_version": "1.5.0",
      "model_name": "ProgressStyleModel",
      "state": {
       "_model_module": "@jupyter-widgets/controls",
       "_model_module_version": "1.5.0",
       "_model_name": "ProgressStyleModel",
       "_view_count": null,
       "_view_module": "@jupyter-widgets/base",
       "_view_module_version": "1.2.0",
       "_view_name": "StyleView",
       "bar_color": null,
       "description_width": ""
      }
     },
     "6199e265c9e9442d9ca29caba68d4313": {
      "model_module": "@jupyter-widgets/controls",
      "model_module_version": "1.5.0",
      "model_name": "DescriptionStyleModel",
      "state": {
       "_model_module": "@jupyter-widgets/controls",
       "_model_module_version": "1.5.0",
       "_model_name": "DescriptionStyleModel",
       "_view_count": null,
       "_view_module": "@jupyter-widgets/base",
       "_view_module_version": "1.2.0",
       "_view_name": "StyleView",
       "description_width": ""
      }
     },
     "61de3e7eb587409191f873f92e6d98fc": {
      "model_module": "@jupyter-widgets/controls",
      "model_module_version": "1.5.0",
      "model_name": "HBoxModel",
      "state": {
       "_dom_classes": [],
       "_model_module": "@jupyter-widgets/controls",
       "_model_module_version": "1.5.0",
       "_model_name": "HBoxModel",
       "_view_count": null,
       "_view_module": "@jupyter-widgets/controls",
       "_view_module_version": "1.5.0",
       "_view_name": "HBoxView",
       "box_style": "",
       "children": [
        "IPY_MODEL_3a3ccdca90074d42a0904bb8c1a54e3c",
        "IPY_MODEL_ab4baacb23ff47779507691d87ba4d86",
        "IPY_MODEL_a0b3010edf09410ab83f9ec40f449e7c"
       ],
       "layout": "IPY_MODEL_87d1a633707844d5b8a49d8611ecd15f"
      }
     },
     "6be58822f9be43d596bd7d3b3124eafa": {
      "model_module": "@jupyter-widgets/base",
      "model_module_version": "1.2.0",
      "model_name": "LayoutModel",
      "state": {
       "_model_module": "@jupyter-widgets/base",
       "_model_module_version": "1.2.0",
       "_model_name": "LayoutModel",
       "_view_count": null,
       "_view_module": "@jupyter-widgets/base",
       "_view_module_version": "1.2.0",
       "_view_name": "LayoutView",
       "align_content": null,
       "align_items": null,
       "align_self": null,
       "border": null,
       "bottom": null,
       "display": null,
       "flex": null,
       "flex_flow": null,
       "grid_area": null,
       "grid_auto_columns": null,
       "grid_auto_flow": null,
       "grid_auto_rows": null,
       "grid_column": null,
       "grid_gap": null,
       "grid_row": null,
       "grid_template_areas": null,
       "grid_template_columns": null,
       "grid_template_rows": null,
       "height": null,
       "justify_content": null,
       "justify_items": null,
       "left": null,
       "margin": null,
       "max_height": null,
       "max_width": null,
       "min_height": null,
       "min_width": null,
       "object_fit": null,
       "object_position": null,
       "order": null,
       "overflow": null,
       "overflow_x": null,
       "overflow_y": null,
       "padding": null,
       "right": null,
       "top": null,
       "visibility": null,
       "width": null
      }
     },
     "76d650e23b534c52a5b45a5a1ef28dc1": {
      "model_module": "@jupyter-widgets/controls",
      "model_module_version": "1.5.0",
      "model_name": "DescriptionStyleModel",
      "state": {
       "_model_module": "@jupyter-widgets/controls",
       "_model_module_version": "1.5.0",
       "_model_name": "DescriptionStyleModel",
       "_view_count": null,
       "_view_module": "@jupyter-widgets/base",
       "_view_module_version": "1.2.0",
       "_view_name": "StyleView",
       "description_width": ""
      }
     },
     "7f41eec3960e4e4f9b82f12b8da201fc": {
      "model_module": "@jupyter-widgets/controls",
      "model_module_version": "1.5.0",
      "model_name": "FloatProgressModel",
      "state": {
       "_dom_classes": [],
       "_model_module": "@jupyter-widgets/controls",
       "_model_module_version": "1.5.0",
       "_model_name": "FloatProgressModel",
       "_view_count": null,
       "_view_module": "@jupyter-widgets/controls",
       "_view_module_version": "1.5.0",
       "_view_name": "ProgressView",
       "bar_style": "success",
       "description": "",
       "description_tooltip": null,
       "layout": "IPY_MODEL_0decae20d85d48119a2fdedd013aa3e3",
       "max": 75481.0,
       "min": 0.0,
       "orientation": "horizontal",
       "style": "IPY_MODEL_bff6cbbffcc44c3895b87ff0729d6a05",
       "value": 75481.0
      }
     },
     "87938bdf4e3143eabca27263d58b1414": {
      "model_module": "@jupyter-widgets/controls",
      "model_module_version": "1.5.0",
      "model_name": "DescriptionStyleModel",
      "state": {
       "_model_module": "@jupyter-widgets/controls",
       "_model_module_version": "1.5.0",
       "_model_name": "DescriptionStyleModel",
       "_view_count": null,
       "_view_module": "@jupyter-widgets/base",
       "_view_module_version": "1.2.0",
       "_view_name": "StyleView",
       "description_width": ""
      }
     },
     "87d1a633707844d5b8a49d8611ecd15f": {
      "model_module": "@jupyter-widgets/base",
      "model_module_version": "1.2.0",
      "model_name": "LayoutModel",
      "state": {
       "_model_module": "@jupyter-widgets/base",
       "_model_module_version": "1.2.0",
       "_model_name": "LayoutModel",
       "_view_count": null,
       "_view_module": "@jupyter-widgets/base",
       "_view_module_version": "1.2.0",
       "_view_name": "LayoutView",
       "align_content": null,
       "align_items": null,
       "align_self": null,
       "border": null,
       "bottom": null,
       "display": null,
       "flex": null,
       "flex_flow": null,
       "grid_area": null,
       "grid_auto_columns": null,
       "grid_auto_flow": null,
       "grid_auto_rows": null,
       "grid_column": null,
       "grid_gap": null,
       "grid_row": null,
       "grid_template_areas": null,
       "grid_template_columns": null,
       "grid_template_rows": null,
       "height": null,
       "justify_content": null,
       "justify_items": null,
       "left": null,
       "margin": null,
       "max_height": null,
       "max_width": null,
       "min_height": null,
       "min_width": null,
       "object_fit": null,
       "object_position": null,
       "order": null,
       "overflow": null,
       "overflow_x": null,
       "overflow_y": null,
       "padding": null,
       "right": null,
       "top": null,
       "visibility": null,
       "width": null
      }
     },
     "917b7255487348b3a683db8933c5a93a": {
      "model_module": "@jupyter-widgets/base",
      "model_module_version": "1.2.0",
      "model_name": "LayoutModel",
      "state": {
       "_model_module": "@jupyter-widgets/base",
       "_model_module_version": "1.2.0",
       "_model_name": "LayoutModel",
       "_view_count": null,
       "_view_module": "@jupyter-widgets/base",
       "_view_module_version": "1.2.0",
       "_view_name": "LayoutView",
       "align_content": null,
       "align_items": null,
       "align_self": null,
       "border": null,
       "bottom": null,
       "display": null,
       "flex": null,
       "flex_flow": null,
       "grid_area": null,
       "grid_auto_columns": null,
       "grid_auto_flow": null,
       "grid_auto_rows": null,
       "grid_column": null,
       "grid_gap": null,
       "grid_row": null,
       "grid_template_areas": null,
       "grid_template_columns": null,
       "grid_template_rows": null,
       "height": null,
       "justify_content": null,
       "justify_items": null,
       "left": null,
       "margin": null,
       "max_height": null,
       "max_width": null,
       "min_height": null,
       "min_width": null,
       "object_fit": null,
       "object_position": null,
       "order": null,
       "overflow": null,
       "overflow_x": null,
       "overflow_y": null,
       "padding": null,
       "right": null,
       "top": null,
       "visibility": null,
       "width": null
      }
     },
     "97beaaecfdb24324b89523a4422c37f9": {
      "model_module": "@jupyter-widgets/controls",
      "model_module_version": "1.5.0",
      "model_name": "FloatProgressModel",
      "state": {
       "_dom_classes": [],
       "_model_module": "@jupyter-widgets/controls",
       "_model_module_version": "1.5.0",
       "_model_name": "FloatProgressModel",
       "_view_count": null,
       "_view_module": "@jupyter-widgets/controls",
       "_view_module_version": "1.5.0",
       "_view_name": "ProgressView",
       "bar_style": "success",
       "description": "",
       "description_tooltip": null,
       "layout": "IPY_MODEL_917b7255487348b3a683db8933c5a93a",
       "max": 15.0,
       "min": 0.0,
       "orientation": "horizontal",
       "style": "IPY_MODEL_4ded8af87c574100afdca61988420bdc",
       "value": 15.0
      }
     },
     "989dc66a58524fe385506ce42d6267c8": {
      "model_module": "@jupyter-widgets/base",
      "model_module_version": "1.2.0",
      "model_name": "LayoutModel",
      "state": {
       "_model_module": "@jupyter-widgets/base",
       "_model_module_version": "1.2.0",
       "_model_name": "LayoutModel",
       "_view_count": null,
       "_view_module": "@jupyter-widgets/base",
       "_view_module_version": "1.2.0",
       "_view_name": "LayoutView",
       "align_content": null,
       "align_items": null,
       "align_self": null,
       "border": null,
       "bottom": null,
       "display": null,
       "flex": null,
       "flex_flow": null,
       "grid_area": null,
       "grid_auto_columns": null,
       "grid_auto_flow": null,
       "grid_auto_rows": null,
       "grid_column": null,
       "grid_gap": null,
       "grid_row": null,
       "grid_template_areas": null,
       "grid_template_columns": null,
       "grid_template_rows": null,
       "height": null,
       "justify_content": null,
       "justify_items": null,
       "left": null,
       "margin": null,
       "max_height": null,
       "max_width": null,
       "min_height": null,
       "min_width": null,
       "object_fit": null,
       "object_position": null,
       "order": null,
       "overflow": null,
       "overflow_x": null,
       "overflow_y": null,
       "padding": null,
       "right": null,
       "top": null,
       "visibility": null,
       "width": null
      }
     },
     "a0b3010edf09410ab83f9ec40f449e7c": {
      "model_module": "@jupyter-widgets/controls",
      "model_module_version": "1.5.0",
      "model_name": "HTMLModel",
      "state": {
       "_dom_classes": [],
       "_model_module": "@jupyter-widgets/controls",
       "_model_module_version": "1.5.0",
       "_model_name": "HTMLModel",
       "_view_count": null,
       "_view_module": "@jupyter-widgets/controls",
       "_view_module_version": "1.5.0",
       "_view_name": "HTMLView",
       "description": "",
       "description_tooltip": null,
       "layout": "IPY_MODEL_444215a2d92d42008790be1d50249c90",
       "placeholder": "​",
       "style": "IPY_MODEL_2227ba57d21045cbaf61c795835ac3c6",
       "value": " 5/5 [00:01&lt;00:00,  2.70it/s]"
      }
     },
     "ab4baacb23ff47779507691d87ba4d86": {
      "model_module": "@jupyter-widgets/controls",
      "model_module_version": "1.5.0",
      "model_name": "FloatProgressModel",
      "state": {
       "_dom_classes": [],
       "_model_module": "@jupyter-widgets/controls",
       "_model_module_version": "1.5.0",
       "_model_name": "FloatProgressModel",
       "_view_count": null,
       "_view_module": "@jupyter-widgets/controls",
       "_view_module_version": "1.5.0",
       "_view_name": "ProgressView",
       "bar_style": "success",
       "description": "",
       "description_tooltip": null,
       "layout": "IPY_MODEL_3a0ea4c2d2f34b72857f583957b29a2a",
       "max": 5.0,
       "min": 0.0,
       "orientation": "horizontal",
       "style": "IPY_MODEL_606649f55e92484e841d97f6445e0cf1",
       "value": 5.0
      }
     },
     "b33d45f5aa1b4933b78c808331781bfc": {
      "model_module": "@jupyter-widgets/controls",
      "model_module_version": "1.5.0",
      "model_name": "HTMLModel",
      "state": {
       "_dom_classes": [],
       "_model_module": "@jupyter-widgets/controls",
       "_model_module_version": "1.5.0",
       "_model_name": "HTMLModel",
       "_view_count": null,
       "_view_module": "@jupyter-widgets/controls",
       "_view_module_version": "1.5.0",
       "_view_name": "HTMLView",
       "description": "",
       "description_tooltip": null,
       "layout": "IPY_MODEL_ff9ada06c63a45e997b750824112df1d",
       "placeholder": "​",
       "style": "IPY_MODEL_ed3da447f5ad49de8e476dc3f35a1c77",
       "value": "100%"
      }
     },
     "b583266359664cc587022bb75a534548": {
      "model_module": "@jupyter-widgets/base",
      "model_module_version": "1.2.0",
      "model_name": "LayoutModel",
      "state": {
       "_model_module": "@jupyter-widgets/base",
       "_model_module_version": "1.2.0",
       "_model_name": "LayoutModel",
       "_view_count": null,
       "_view_module": "@jupyter-widgets/base",
       "_view_module_version": "1.2.0",
       "_view_name": "LayoutView",
       "align_content": null,
       "align_items": null,
       "align_self": null,
       "border": null,
       "bottom": null,
       "display": null,
       "flex": null,
       "flex_flow": null,
       "grid_area": null,
       "grid_auto_columns": null,
       "grid_auto_flow": null,
       "grid_auto_rows": null,
       "grid_column": null,
       "grid_gap": null,
       "grid_row": null,
       "grid_template_areas": null,
       "grid_template_columns": null,
       "grid_template_rows": null,
       "height": null,
       "justify_content": null,
       "justify_items": null,
       "left": null,
       "margin": null,
       "max_height": null,
       "max_width": null,
       "min_height": null,
       "min_width": null,
       "object_fit": null,
       "object_position": null,
       "order": null,
       "overflow": null,
       "overflow_x": null,
       "overflow_y": null,
       "padding": null,
       "right": null,
       "top": null,
       "visibility": null,
       "width": null
      }
     },
     "bff6cbbffcc44c3895b87ff0729d6a05": {
      "model_module": "@jupyter-widgets/controls",
      "model_module_version": "1.5.0",
      "model_name": "ProgressStyleModel",
      "state": {
       "_model_module": "@jupyter-widgets/controls",
       "_model_module_version": "1.5.0",
       "_model_name": "ProgressStyleModel",
       "_view_count": null,
       "_view_module": "@jupyter-widgets/base",
       "_view_module_version": "1.2.0",
       "_view_name": "StyleView",
       "bar_color": null,
       "description_width": ""
      }
     },
     "ccea3e71e1484e41be362182b3d7f6a8": {
      "model_module": "@jupyter-widgets/base",
      "model_module_version": "1.2.0",
      "model_name": "LayoutModel",
      "state": {
       "_model_module": "@jupyter-widgets/base",
       "_model_module_version": "1.2.0",
       "_model_name": "LayoutModel",
       "_view_count": null,
       "_view_module": "@jupyter-widgets/base",
       "_view_module_version": "1.2.0",
       "_view_name": "LayoutView",
       "align_content": null,
       "align_items": null,
       "align_self": null,
       "border": null,
       "bottom": null,
       "display": null,
       "flex": null,
       "flex_flow": null,
       "grid_area": null,
       "grid_auto_columns": null,
       "grid_auto_flow": null,
       "grid_auto_rows": null,
       "grid_column": null,
       "grid_gap": null,
       "grid_row": null,
       "grid_template_areas": null,
       "grid_template_columns": null,
       "grid_template_rows": null,
       "height": null,
       "justify_content": null,
       "justify_items": null,
       "left": null,
       "margin": null,
       "max_height": null,
       "max_width": null,
       "min_height": null,
       "min_width": null,
       "object_fit": null,
       "object_position": null,
       "order": null,
       "overflow": null,
       "overflow_x": null,
       "overflow_y": null,
       "padding": null,
       "right": null,
       "top": null,
       "visibility": null,
       "width": null
      }
     },
     "cd2c030942d34ee5a330811dfcce679b": {
      "model_module": "@jupyter-widgets/controls",
      "model_module_version": "1.5.0",
      "model_name": "HTMLModel",
      "state": {
       "_dom_classes": [],
       "_model_module": "@jupyter-widgets/controls",
       "_model_module_version": "1.5.0",
       "_model_name": "HTMLModel",
       "_view_count": null,
       "_view_module": "@jupyter-widgets/controls",
       "_view_module_version": "1.5.0",
       "_view_name": "HTMLView",
       "description": "",
       "description_tooltip": null,
       "layout": "IPY_MODEL_6be58822f9be43d596bd7d3b3124eafa",
       "placeholder": "​",
       "style": "IPY_MODEL_4d1b9e4cdb2e44d5b408132b71758fc2",
       "value": " 75481/75481 [00:00&lt;00:00, 186612.29it/s]"
      }
     },
     "d3fc4b2e5611450cb0a8cbe951cecdbb": {
      "model_module": "@jupyter-widgets/base",
      "model_module_version": "1.2.0",
      "model_name": "LayoutModel",
      "state": {
       "_model_module": "@jupyter-widgets/base",
       "_model_module_version": "1.2.0",
       "_model_name": "LayoutModel",
       "_view_count": null,
       "_view_module": "@jupyter-widgets/base",
       "_view_module_version": "1.2.0",
       "_view_name": "LayoutView",
       "align_content": null,
       "align_items": null,
       "align_self": null,
       "border": null,
       "bottom": null,
       "display": null,
       "flex": null,
       "flex_flow": null,
       "grid_area": null,
       "grid_auto_columns": null,
       "grid_auto_flow": null,
       "grid_auto_rows": null,
       "grid_column": null,
       "grid_gap": null,
       "grid_row": null,
       "grid_template_areas": null,
       "grid_template_columns": null,
       "grid_template_rows": null,
       "height": null,
       "justify_content": null,
       "justify_items": null,
       "left": null,
       "margin": null,
       "max_height": null,
       "max_width": null,
       "min_height": null,
       "min_width": null,
       "object_fit": null,
       "object_position": null,
       "order": null,
       "overflow": null,
       "overflow_x": null,
       "overflow_y": null,
       "padding": null,
       "right": null,
       "top": null,
       "visibility": null,
       "width": null
      }
     },
     "dba81391fbc247dfbaa00be9d3fd424a": {
      "model_module": "@jupyter-widgets/controls",
      "model_module_version": "1.5.0",
      "model_name": "DescriptionStyleModel",
      "state": {
       "_model_module": "@jupyter-widgets/controls",
       "_model_module_version": "1.5.0",
       "_model_name": "DescriptionStyleModel",
       "_view_count": null,
       "_view_module": "@jupyter-widgets/base",
       "_view_module_version": "1.2.0",
       "_view_name": "StyleView",
       "description_width": ""
      }
     },
     "df41402d232c4bd6ae1f9207f7a42b50": {
      "model_module": "@jupyter-widgets/controls",
      "model_module_version": "1.5.0",
      "model_name": "HBoxModel",
      "state": {
       "_dom_classes": [],
       "_model_module": "@jupyter-widgets/controls",
       "_model_module_version": "1.5.0",
       "_model_name": "HBoxModel",
       "_view_count": null,
       "_view_module": "@jupyter-widgets/controls",
       "_view_module_version": "1.5.0",
       "_view_name": "HBoxView",
       "box_style": "",
       "children": [
        "IPY_MODEL_1d94f4cff3584ae0921caef886bcf6de",
        "IPY_MODEL_97beaaecfdb24324b89523a4422c37f9",
        "IPY_MODEL_fe79d92ee1704c398005c20d935890a7"
       ],
       "layout": "IPY_MODEL_168c0afa433e40aea3a3ff1c3a1386c6"
      }
     },
     "e3eceef4bb3245aab474133454d55a93": {
      "model_module": "@jupyter-widgets/controls",
      "model_module_version": "1.5.0",
      "model_name": "ProgressStyleModel",
      "state": {
       "_model_module": "@jupyter-widgets/controls",
       "_model_module_version": "1.5.0",
       "_model_name": "ProgressStyleModel",
       "_view_count": null,
       "_view_module": "@jupyter-widgets/base",
       "_view_module_version": "1.2.0",
       "_view_name": "StyleView",
       "bar_color": null,
       "description_width": ""
      }
     },
     "eab3db059d4342228809690e02102823": {
      "model_module": "@jupyter-widgets/controls",
      "model_module_version": "1.5.0",
      "model_name": "HTMLModel",
      "state": {
       "_dom_classes": [],
       "_model_module": "@jupyter-widgets/controls",
       "_model_module_version": "1.5.0",
       "_model_name": "HTMLModel",
       "_view_count": null,
       "_view_module": "@jupyter-widgets/controls",
       "_view_module_version": "1.5.0",
       "_view_name": "HTMLView",
       "description": "",
       "description_tooltip": null,
       "layout": "IPY_MODEL_b583266359664cc587022bb75a534548",
       "placeholder": "​",
       "style": "IPY_MODEL_dba81391fbc247dfbaa00be9d3fd424a",
       "value": " 3/3 [00:00&lt;00:00,  3.86it/s]"
      }
     },
     "ed3da447f5ad49de8e476dc3f35a1c77": {
      "model_module": "@jupyter-widgets/controls",
      "model_module_version": "1.5.0",
      "model_name": "DescriptionStyleModel",
      "state": {
       "_model_module": "@jupyter-widgets/controls",
       "_model_module_version": "1.5.0",
       "_model_name": "DescriptionStyleModel",
       "_view_count": null,
       "_view_module": "@jupyter-widgets/base",
       "_view_module_version": "1.2.0",
       "_view_name": "StyleView",
       "description_width": ""
      }
     },
     "edacca7a6f14481a8530de336e702000": {
      "model_module": "@jupyter-widgets/controls",
      "model_module_version": "1.5.0",
      "model_name": "DescriptionStyleModel",
      "state": {
       "_model_module": "@jupyter-widgets/controls",
       "_model_module_version": "1.5.0",
       "_model_name": "DescriptionStyleModel",
       "_view_count": null,
       "_view_module": "@jupyter-widgets/base",
       "_view_module_version": "1.2.0",
       "_view_name": "StyleView",
       "description_width": ""
      }
     },
     "fe79d92ee1704c398005c20d935890a7": {
      "model_module": "@jupyter-widgets/controls",
      "model_module_version": "1.5.0",
      "model_name": "HTMLModel",
      "state": {
       "_dom_classes": [],
       "_model_module": "@jupyter-widgets/controls",
       "_model_module_version": "1.5.0",
       "_model_name": "HTMLModel",
       "_view_count": null,
       "_view_module": "@jupyter-widgets/controls",
       "_view_module_version": "1.5.0",
       "_view_name": "HTMLView",
       "description": "",
       "description_tooltip": null,
       "layout": "IPY_MODEL_d3fc4b2e5611450cb0a8cbe951cecdbb",
       "placeholder": "​",
       "style": "IPY_MODEL_87938bdf4e3143eabca27263d58b1414",
       "value": " 15/15 [00:00&lt;00:00, 29.04it/s]"
      }
     },
     "ff9ada06c63a45e997b750824112df1d": {
      "model_module": "@jupyter-widgets/base",
      "model_module_version": "1.2.0",
      "model_name": "LayoutModel",
      "state": {
       "_model_module": "@jupyter-widgets/base",
       "_model_module_version": "1.2.0",
       "_model_name": "LayoutModel",
       "_view_count": null,
       "_view_module": "@jupyter-widgets/base",
       "_view_module_version": "1.2.0",
       "_view_name": "LayoutView",
       "align_content": null,
       "align_items": null,
       "align_self": null,
       "border": null,
       "bottom": null,
       "display": null,
       "flex": null,
       "flex_flow": null,
       "grid_area": null,
       "grid_auto_columns": null,
       "grid_auto_flow": null,
       "grid_auto_rows": null,
       "grid_column": null,
       "grid_gap": null,
       "grid_row": null,
       "grid_template_areas": null,
       "grid_template_columns": null,
       "grid_template_rows": null,
       "height": null,
       "justify_content": null,
       "justify_items": null,
       "left": null,
       "margin": null,
       "max_height": null,
       "max_width": null,
       "min_height": null,
       "min_width": null,
       "object_fit": null,
       "object_position": null,
       "order": null,
       "overflow": null,
       "overflow_x": null,
       "overflow_y": null,
       "padding": null,
       "right": null,
       "top": null,
       "visibility": null,
       "width": null
      }
     }
    },
    "version_major": 2,
    "version_minor": 0
   }
  }
 },
 "nbformat": 4,
 "nbformat_minor": 5
}
